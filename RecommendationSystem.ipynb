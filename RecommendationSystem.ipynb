{
  "nbformat": 4,
  "nbformat_minor": 0,
  "metadata": {
    "colab": {
      "provenance": [],
      "toc_visible": true,
      "mount_file_id": "1Wdxy_aZ1YgI4YwFCUv1eBuDAH5fL7zda",
      "authorship_tag": "ABX9TyPiwdICjCmqdub5+IfCPZrL",
      "include_colab_link": true
    },
    "kernelspec": {
      "name": "python3",
      "display_name": "Python 3"
    },
    "language_info": {
      "name": "python"
    }
  },
  "cells": [
    {
      "cell_type": "markdown",
      "metadata": {
        "id": "view-in-github",
        "colab_type": "text"
      },
      "source": [
        "<a href=\"https://colab.research.google.com/github/bagascahyawiguna/RecommendationSystem/blob/main/RecommendationSystem.ipynb\" target=\"_parent\"><img src=\"https://colab.research.google.com/assets/colab-badge.svg\" alt=\"Open In Colab\"/></a>"
      ]
    },
    {
      "cell_type": "markdown",
      "source": [
        "# Sistem Rekomendasi Film - GroupLens MovieLens 📚\n",
        "\n",
        "Notebook ini membangun sistem rekomendasi Film menggunakan dataset [MovieLens Dataset](https://grouplens.org/datasets/movielens/latest/). Sistem rekomendasi akan dikembangkan menggunakan dua pendekatan utama:\n",
        "\n",
        "1. **Content-Based Filtering** – Memberikan rekomendasi berdasarkan kemiripan konten Film.\n",
        "2. **Collaborative Filtering** – Memberikan rekomendasi berdasarkan perilaku pengguna lain yang mirip.\n",
        "\n",
        "Tujuan proyek ini adalah membantu pengguna menemukan Film yang relevan dengan preferensinya."
      ],
      "metadata": {
        "id": "xyCq6gYp9TPw"
      }
    },
    {
      "cell_type": "code",
      "execution_count": 1,
      "metadata": {
        "id": "IMx2GC09aq1f",
        "colab": {
          "base_uri": "https://localhost:8080/"
        },
        "outputId": "0120a9c9-38cd-470d-d2de-4496a4c0a4c4"
      },
      "outputs": [
        {
          "output_type": "stream",
          "name": "stdout",
          "text": [
            "Drive already mounted at /content/drive; to attempt to forcibly remount, call drive.mount(\"/content/drive\", force_remount=True).\n"
          ]
        }
      ],
      "source": [
        "from google.colab import drive\n",
        "drive.mount('/content/drive')"
      ]
    },
    {
      "cell_type": "markdown",
      "source": [
        "# **Import Library**"
      ],
      "metadata": {
        "id": "eA6IpQJNLJCz"
      }
    },
    {
      "cell_type": "code",
      "source": [
        "!pip install numpy==1.23.5\n",
        "!pip install scikit-surprise\n",
        "!pip install tensorflow==2.12.0"
      ],
      "metadata": {
        "colab": {
          "base_uri": "https://localhost:8080/",
          "height": 1000
        },
        "id": "KGNg0qJYMFfz",
        "outputId": "9ef6ef3d-d9a5-4b04-8165-71deda6c2e8a"
      },
      "execution_count": 42,
      "outputs": [
        {
          "output_type": "stream",
          "name": "stdout",
          "text": [
            "Requirement already satisfied: numpy==1.23.5 in /usr/local/lib/python3.11/dist-packages (1.23.5)\n",
            "Requirement already satisfied: scikit-surprise in /usr/local/lib/python3.11/dist-packages (1.1.4)\n",
            "Requirement already satisfied: joblib>=1.2.0 in /usr/local/lib/python3.11/dist-packages (from scikit-surprise) (1.4.2)\n",
            "Requirement already satisfied: numpy>=1.19.5 in /usr/local/lib/python3.11/dist-packages (from scikit-surprise) (1.23.5)\n",
            "Requirement already satisfied: scipy>=1.6.0 in /usr/local/lib/python3.11/dist-packages (from scikit-surprise) (1.15.2)\n",
            "Collecting tensorflow==2.12.0\n",
            "  Downloading tensorflow-2.12.0-cp311-cp311-manylinux_2_17_x86_64.manylinux2014_x86_64.whl.metadata (3.4 kB)\n",
            "Requirement already satisfied: absl-py>=1.0.0 in /usr/local/lib/python3.11/dist-packages (from tensorflow==2.12.0) (1.4.0)\n",
            "Requirement already satisfied: astunparse>=1.6.0 in /usr/local/lib/python3.11/dist-packages (from tensorflow==2.12.0) (1.6.3)\n",
            "Requirement already satisfied: flatbuffers>=2.0 in /usr/local/lib/python3.11/dist-packages (from tensorflow==2.12.0) (25.2.10)\n",
            "Collecting gast<=0.4.0,>=0.2.1 (from tensorflow==2.12.0)\n",
            "  Downloading gast-0.4.0-py3-none-any.whl.metadata (1.1 kB)\n",
            "Requirement already satisfied: google-pasta>=0.1.1 in /usr/local/lib/python3.11/dist-packages (from tensorflow==2.12.0) (0.2.0)\n",
            "Requirement already satisfied: grpcio<2.0,>=1.24.3 in /usr/local/lib/python3.11/dist-packages (from tensorflow==2.12.0) (1.71.0)\n",
            "Requirement already satisfied: h5py>=2.9.0 in /usr/local/lib/python3.11/dist-packages (from tensorflow==2.12.0) (3.13.0)\n",
            "Requirement already satisfied: jax>=0.3.15 in /usr/local/lib/python3.11/dist-packages (from tensorflow==2.12.0) (0.5.2)\n",
            "Collecting keras<2.13,>=2.12.0 (from tensorflow==2.12.0)\n",
            "  Downloading keras-2.12.0-py2.py3-none-any.whl.metadata (1.4 kB)\n",
            "Requirement already satisfied: libclang>=13.0.0 in /usr/local/lib/python3.11/dist-packages (from tensorflow==2.12.0) (18.1.1)\n",
            "Requirement already satisfied: numpy<1.24,>=1.22 in /usr/local/lib/python3.11/dist-packages (from tensorflow==2.12.0) (1.23.5)\n",
            "Requirement already satisfied: opt-einsum>=2.3.2 in /usr/local/lib/python3.11/dist-packages (from tensorflow==2.12.0) (3.4.0)\n",
            "Requirement already satisfied: packaging in /usr/local/lib/python3.11/dist-packages (from tensorflow==2.12.0) (24.2)\n",
            "Collecting protobuf!=4.21.0,!=4.21.1,!=4.21.2,!=4.21.3,!=4.21.4,!=4.21.5,<5.0.0dev,>=3.20.3 (from tensorflow==2.12.0)\n",
            "  Downloading protobuf-4.25.7-cp37-abi3-manylinux2014_x86_64.whl.metadata (541 bytes)\n",
            "Requirement already satisfied: setuptools in /usr/local/lib/python3.11/dist-packages (from tensorflow==2.12.0) (75.2.0)\n",
            "Requirement already satisfied: six>=1.12.0 in /usr/local/lib/python3.11/dist-packages (from tensorflow==2.12.0) (1.17.0)\n",
            "Collecting tensorboard<2.13,>=2.12 (from tensorflow==2.12.0)\n",
            "  Downloading tensorboard-2.12.3-py3-none-any.whl.metadata (1.8 kB)\n",
            "Collecting tensorflow-estimator<2.13,>=2.12.0 (from tensorflow==2.12.0)\n",
            "  Downloading tensorflow_estimator-2.12.0-py2.py3-none-any.whl.metadata (1.3 kB)\n",
            "Requirement already satisfied: termcolor>=1.1.0 in /usr/local/lib/python3.11/dist-packages (from tensorflow==2.12.0) (3.1.0)\n",
            "Requirement already satisfied: typing-extensions>=3.6.6 in /usr/local/lib/python3.11/dist-packages (from tensorflow==2.12.0) (4.13.2)\n",
            "Collecting wrapt<1.15,>=1.11.0 (from tensorflow==2.12.0)\n",
            "  Downloading wrapt-1.14.1-cp311-cp311-manylinux_2_5_x86_64.manylinux1_x86_64.manylinux_2_17_x86_64.manylinux2014_x86_64.whl.metadata (6.7 kB)\n",
            "Requirement already satisfied: tensorflow-io-gcs-filesystem>=0.23.1 in /usr/local/lib/python3.11/dist-packages (from tensorflow==2.12.0) (0.37.1)\n",
            "Requirement already satisfied: wheel<1.0,>=0.23.0 in /usr/local/lib/python3.11/dist-packages (from astunparse>=1.6.0->tensorflow==2.12.0) (0.45.1)\n",
            "Requirement already satisfied: jaxlib<=0.5.2,>=0.5.1 in /usr/local/lib/python3.11/dist-packages (from jax>=0.3.15->tensorflow==2.12.0) (0.5.1)\n",
            "Requirement already satisfied: ml_dtypes>=0.4.0 in /usr/local/lib/python3.11/dist-packages (from jax>=0.3.15->tensorflow==2.12.0) (0.4.1)\n",
            "INFO: pip is looking at multiple versions of jax to determine which version is compatible with other requirements. This could take a while.\n",
            "Collecting jax>=0.3.15 (from tensorflow==2.12.0)\n",
            "  Downloading jax-0.6.0-py3-none-any.whl.metadata (22 kB)\n",
            "Collecting jaxlib<=0.6.0,>=0.6.0 (from jax>=0.3.15->tensorflow==2.12.0)\n",
            "  Downloading jaxlib-0.6.0-cp311-cp311-manylinux2014_x86_64.whl.metadata (1.2 kB)\n",
            "Collecting ml_dtypes>=0.5.0 (from jax>=0.3.15->tensorflow==2.12.0)\n",
            "  Downloading ml_dtypes-0.5.1-cp311-cp311-manylinux_2_17_x86_64.manylinux2014_x86_64.whl.metadata (21 kB)\n",
            "Collecting jax>=0.3.15 (from tensorflow==2.12.0)\n",
            "  Downloading jax-0.5.3-py3-none-any.whl.metadata (22 kB)\n",
            "Collecting jaxlib<=0.5.3,>=0.5.3 (from jax>=0.3.15->tensorflow==2.12.0)\n",
            "  Downloading jaxlib-0.5.3-cp311-cp311-manylinux2014_x86_64.whl.metadata (1.2 kB)\n",
            "Collecting jax>=0.3.15 (from tensorflow==2.12.0)\n",
            "  Downloading jax-0.5.1-py3-none-any.whl.metadata (22 kB)\n",
            "  Downloading jax-0.5.0-py3-none-any.whl.metadata (22 kB)\n",
            "Collecting jaxlib<=0.5.0,>=0.5.0 (from jax>=0.3.15->tensorflow==2.12.0)\n",
            "  Downloading jaxlib-0.5.0-cp311-cp311-manylinux2014_x86_64.whl.metadata (978 bytes)\n",
            "Collecting jax>=0.3.15 (from tensorflow==2.12.0)\n",
            "  Downloading jax-0.4.38-py3-none-any.whl.metadata (22 kB)\n",
            "Collecting jaxlib<=0.4.38,>=0.4.38 (from jax>=0.3.15->tensorflow==2.12.0)\n",
            "  Downloading jaxlib-0.4.38-cp311-cp311-manylinux2014_x86_64.whl.metadata (1.0 kB)\n",
            "Collecting jax>=0.3.15 (from tensorflow==2.12.0)\n",
            "  Downloading jax-0.4.37-py3-none-any.whl.metadata (22 kB)\n",
            "Collecting jaxlib<=0.4.37,>=0.4.36 (from jax>=0.3.15->tensorflow==2.12.0)\n",
            "  Downloading jaxlib-0.4.36-cp311-cp311-manylinux2014_x86_64.whl.metadata (1.0 kB)\n",
            "Collecting jax>=0.3.15 (from tensorflow==2.12.0)\n",
            "  Downloading jax-0.4.36-py3-none-any.whl.metadata (22 kB)\n",
            "INFO: pip is still looking at multiple versions of jax to determine which version is compatible with other requirements. This could take a while.\n",
            "  Downloading jax-0.4.35-py3-none-any.whl.metadata (22 kB)\n",
            "Collecting jaxlib<=0.4.35,>=0.4.34 (from jax>=0.3.15->tensorflow==2.12.0)\n",
            "  Downloading jaxlib-0.4.35-cp311-cp311-manylinux2014_x86_64.whl.metadata (983 bytes)\n",
            "Collecting jax>=0.3.15 (from tensorflow==2.12.0)\n",
            "  Downloading jax-0.4.34-py3-none-any.whl.metadata (22 kB)\n",
            "Collecting jaxlib<=0.4.34,>=0.4.34 (from jax>=0.3.15->tensorflow==2.12.0)\n",
            "  Downloading jaxlib-0.4.34-cp311-cp311-manylinux2014_x86_64.whl.metadata (983 bytes)\n",
            "Collecting jax>=0.3.15 (from tensorflow==2.12.0)\n",
            "  Downloading jax-0.4.33-py3-none-any.whl.metadata (22 kB)\n",
            "Collecting jaxlib<=0.4.33,>=0.4.33 (from jax>=0.3.15->tensorflow==2.12.0)\n",
            "  Downloading jaxlib-0.4.33-cp311-cp311-manylinux2014_x86_64.whl.metadata (983 bytes)\n",
            "Collecting jax>=0.3.15 (from tensorflow==2.12.0)\n",
            "  Downloading jax-0.4.31-py3-none-any.whl.metadata (22 kB)\n",
            "Collecting jaxlib<=0.4.31,>=0.4.30 (from jax>=0.3.15->tensorflow==2.12.0)\n",
            "  Downloading jaxlib-0.4.31-cp311-cp311-manylinux2014_x86_64.whl.metadata (983 bytes)\n",
            "Collecting jax>=0.3.15 (from tensorflow==2.12.0)\n",
            "  Downloading jax-0.4.30-py3-none-any.whl.metadata (22 kB)\n",
            "Collecting jaxlib<=0.4.30,>=0.4.27 (from jax>=0.3.15->tensorflow==2.12.0)\n",
            "  Downloading jaxlib-0.4.30-cp311-cp311-manylinux2014_x86_64.whl.metadata (1.0 kB)\n",
            "Requirement already satisfied: scipy>=1.9 in /usr/local/lib/python3.11/dist-packages (from jax>=0.3.15->tensorflow==2.12.0) (1.15.2)\n",
            "Requirement already satisfied: google-auth<3,>=1.6.3 in /usr/local/lib/python3.11/dist-packages (from tensorboard<2.13,>=2.12->tensorflow==2.12.0) (2.38.0)\n",
            "Collecting google-auth-oauthlib<1.1,>=0.5 (from tensorboard<2.13,>=2.12->tensorflow==2.12.0)\n",
            "  Downloading google_auth_oauthlib-1.0.0-py2.py3-none-any.whl.metadata (2.7 kB)\n",
            "Requirement already satisfied: markdown>=2.6.8 in /usr/local/lib/python3.11/dist-packages (from tensorboard<2.13,>=2.12->tensorflow==2.12.0) (3.8)\n",
            "Requirement already satisfied: requests<3,>=2.21.0 in /usr/local/lib/python3.11/dist-packages (from tensorboard<2.13,>=2.12->tensorflow==2.12.0) (2.32.3)\n",
            "Requirement already satisfied: tensorboard-data-server<0.8.0,>=0.7.0 in /usr/local/lib/python3.11/dist-packages (from tensorboard<2.13,>=2.12->tensorflow==2.12.0) (0.7.2)\n",
            "Requirement already satisfied: werkzeug>=1.0.1 in /usr/local/lib/python3.11/dist-packages (from tensorboard<2.13,>=2.12->tensorflow==2.12.0) (3.1.3)\n",
            "Requirement already satisfied: cachetools<6.0,>=2.0.0 in /usr/local/lib/python3.11/dist-packages (from google-auth<3,>=1.6.3->tensorboard<2.13,>=2.12->tensorflow==2.12.0) (5.5.2)\n",
            "Requirement already satisfied: pyasn1-modules>=0.2.1 in /usr/local/lib/python3.11/dist-packages (from google-auth<3,>=1.6.3->tensorboard<2.13,>=2.12->tensorflow==2.12.0) (0.4.2)\n",
            "Requirement already satisfied: rsa<5,>=3.1.4 in /usr/local/lib/python3.11/dist-packages (from google-auth<3,>=1.6.3->tensorboard<2.13,>=2.12->tensorflow==2.12.0) (4.9.1)\n",
            "Requirement already satisfied: requests-oauthlib>=0.7.0 in /usr/local/lib/python3.11/dist-packages (from google-auth-oauthlib<1.1,>=0.5->tensorboard<2.13,>=2.12->tensorflow==2.12.0) (2.0.0)\n",
            "Requirement already satisfied: charset-normalizer<4,>=2 in /usr/local/lib/python3.11/dist-packages (from requests<3,>=2.21.0->tensorboard<2.13,>=2.12->tensorflow==2.12.0) (3.4.1)\n",
            "Requirement already satisfied: idna<4,>=2.5 in /usr/local/lib/python3.11/dist-packages (from requests<3,>=2.21.0->tensorboard<2.13,>=2.12->tensorflow==2.12.0) (3.10)\n",
            "Requirement already satisfied: urllib3<3,>=1.21.1 in /usr/local/lib/python3.11/dist-packages (from requests<3,>=2.21.0->tensorboard<2.13,>=2.12->tensorflow==2.12.0) (2.4.0)\n",
            "Requirement already satisfied: certifi>=2017.4.17 in /usr/local/lib/python3.11/dist-packages (from requests<3,>=2.21.0->tensorboard<2.13,>=2.12->tensorflow==2.12.0) (2025.4.26)\n",
            "Requirement already satisfied: MarkupSafe>=2.1.1 in /usr/local/lib/python3.11/dist-packages (from werkzeug>=1.0.1->tensorboard<2.13,>=2.12->tensorflow==2.12.0) (3.0.2)\n",
            "Requirement already satisfied: pyasn1<0.7.0,>=0.6.1 in /usr/local/lib/python3.11/dist-packages (from pyasn1-modules>=0.2.1->google-auth<3,>=1.6.3->tensorboard<2.13,>=2.12->tensorflow==2.12.0) (0.6.1)\n",
            "Requirement already satisfied: oauthlib>=3.0.0 in /usr/local/lib/python3.11/dist-packages (from requests-oauthlib>=0.7.0->google-auth-oauthlib<1.1,>=0.5->tensorboard<2.13,>=2.12->tensorflow==2.12.0) (3.2.2)\n",
            "Downloading tensorflow-2.12.0-cp311-cp311-manylinux_2_17_x86_64.manylinux2014_x86_64.whl (586.0 MB)\n",
            "\u001b[2K   \u001b[90m━━━━━━━━━━━━━━━━━━━━━━━━━━━━━━━━━━━━━━━━\u001b[0m \u001b[32m586.0/586.0 MB\u001b[0m \u001b[31m3.0 MB/s\u001b[0m eta \u001b[36m0:00:00\u001b[0m\n",
            "\u001b[?25hDownloading gast-0.4.0-py3-none-any.whl (9.8 kB)\n",
            "Downloading jax-0.4.30-py3-none-any.whl (2.0 MB)\n",
            "\u001b[2K   \u001b[90m━━━━━━━━━━━━━━━━━━━━━━━━━━━━━━━━━━━━━━━━\u001b[0m \u001b[32m2.0/2.0 MB\u001b[0m \u001b[31m75.0 MB/s\u001b[0m eta \u001b[36m0:00:00\u001b[0m\n",
            "\u001b[?25hDownloading keras-2.12.0-py2.py3-none-any.whl (1.7 MB)\n",
            "\u001b[2K   \u001b[90m━━━━━━━━━━━━━━━━━━━━━━━━━━━━━━━━━━━━━━━━\u001b[0m \u001b[32m1.7/1.7 MB\u001b[0m \u001b[31m69.4 MB/s\u001b[0m eta \u001b[36m0:00:00\u001b[0m\n",
            "\u001b[?25hDownloading protobuf-4.25.7-cp37-abi3-manylinux2014_x86_64.whl (294 kB)\n",
            "\u001b[2K   \u001b[90m━━━━━━━━━━━━━━━━━━━━━━━━━━━━━━━━━━━━━━━━\u001b[0m \u001b[32m294.6/294.6 kB\u001b[0m \u001b[31m21.6 MB/s\u001b[0m eta \u001b[36m0:00:00\u001b[0m\n",
            "\u001b[?25hDownloading tensorboard-2.12.3-py3-none-any.whl (5.6 MB)\n",
            "\u001b[2K   \u001b[90m━━━━━━━━━━━━━━━━━━━━━━━━━━━━━━━━━━━━━━━━\u001b[0m \u001b[32m5.6/5.6 MB\u001b[0m \u001b[31m100.9 MB/s\u001b[0m eta \u001b[36m0:00:00\u001b[0m\n",
            "\u001b[?25hDownloading tensorflow_estimator-2.12.0-py2.py3-none-any.whl (440 kB)\n",
            "\u001b[2K   \u001b[90m━━━━━━━━━━━━━━━━━━━━━━━━━━━━━━━━━━━━━━━━\u001b[0m \u001b[32m440.7/440.7 kB\u001b[0m \u001b[31m31.7 MB/s\u001b[0m eta \u001b[36m0:00:00\u001b[0m\n",
            "\u001b[?25hDownloading wrapt-1.14.1-cp311-cp311-manylinux_2_5_x86_64.manylinux1_x86_64.manylinux_2_17_x86_64.manylinux2014_x86_64.whl (78 kB)\n",
            "\u001b[2K   \u001b[90m━━━━━━━━━━━━━━━━━━━━━━━━━━━━━━━━━━━━━━━━\u001b[0m \u001b[32m78.4/78.4 kB\u001b[0m \u001b[31m7.1 MB/s\u001b[0m eta \u001b[36m0:00:00\u001b[0m\n",
            "\u001b[?25hDownloading google_auth_oauthlib-1.0.0-py2.py3-none-any.whl (18 kB)\n",
            "Downloading jaxlib-0.4.30-cp311-cp311-manylinux2014_x86_64.whl (79.6 MB)\n",
            "\u001b[2K   \u001b[90m━━━━━━━━━━━━━━━━━━━━━━━━━━━━━━━━━━━━━━━━\u001b[0m \u001b[32m79.6/79.6 MB\u001b[0m \u001b[31m10.5 MB/s\u001b[0m eta \u001b[36m0:00:00\u001b[0m\n",
            "\u001b[?25hInstalling collected packages: wrapt, tensorflow-estimator, protobuf, keras, gast, jaxlib, jax, google-auth-oauthlib, tensorboard, tensorflow\n",
            "  Attempting uninstall: wrapt\n",
            "    Found existing installation: wrapt 1.17.2\n",
            "    Uninstalling wrapt-1.17.2:\n",
            "      Successfully uninstalled wrapt-1.17.2\n",
            "  Attempting uninstall: protobuf\n",
            "    Found existing installation: protobuf 5.29.4\n",
            "    Uninstalling protobuf-5.29.4:\n",
            "      Successfully uninstalled protobuf-5.29.4\n",
            "  Attempting uninstall: keras\n",
            "    Found existing installation: keras 3.8.0\n",
            "    Uninstalling keras-3.8.0:\n",
            "      Successfully uninstalled keras-3.8.0\n",
            "  Attempting uninstall: gast\n",
            "    Found existing installation: gast 0.6.0\n",
            "    Uninstalling gast-0.6.0:\n",
            "      Successfully uninstalled gast-0.6.0\n",
            "  Attempting uninstall: jaxlib\n",
            "    Found existing installation: jaxlib 0.5.1\n",
            "    Uninstalling jaxlib-0.5.1:\n",
            "      Successfully uninstalled jaxlib-0.5.1\n",
            "  Attempting uninstall: jax\n",
            "    Found existing installation: jax 0.5.2\n",
            "    Uninstalling jax-0.5.2:\n",
            "      Successfully uninstalled jax-0.5.2\n",
            "  Attempting uninstall: google-auth-oauthlib\n",
            "    Found existing installation: google-auth-oauthlib 1.2.2\n",
            "    Uninstalling google-auth-oauthlib-1.2.2:\n",
            "      Successfully uninstalled google-auth-oauthlib-1.2.2\n",
            "  Attempting uninstall: tensorboard\n",
            "    Found existing installation: tensorboard 2.18.0\n",
            "    Uninstalling tensorboard-2.18.0:\n",
            "      Successfully uninstalled tensorboard-2.18.0\n",
            "  Attempting uninstall: tensorflow\n",
            "    Found existing installation: tensorflow 2.18.0\n",
            "    Uninstalling tensorflow-2.18.0:\n",
            "      Successfully uninstalled tensorflow-2.18.0\n",
            "\u001b[31mERROR: pip's dependency resolver does not currently take into account all the packages that are installed. This behaviour is the source of the following dependency conflicts.\n",
            "tensorflow-text 2.18.1 requires tensorflow<2.19,>=2.18.0, but you have tensorflow 2.12.0 which is incompatible.\n",
            "bigframes 2.1.0 requires numpy>=1.24.0, but you have numpy 1.23.5 which is incompatible.\n",
            "tensorflow-decision-forests 1.11.0 requires tensorflow==2.18.0, but you have tensorflow 2.12.0 which is incompatible.\n",
            "grpcio-status 1.71.0 requires protobuf<6.0dev,>=5.26.1, but you have protobuf 4.25.7 which is incompatible.\n",
            "flax 0.10.6 requires jax>=0.5.1, but you have jax 0.4.30 which is incompatible.\n",
            "chex 0.1.89 requires numpy>=1.24.1, but you have numpy 1.23.5 which is incompatible.\n",
            "orbax-checkpoint 0.11.13 requires jax>=0.5.0, but you have jax 0.4.30 which is incompatible.\n",
            "tf-keras 2.18.0 requires tensorflow<2.19,>=2.18, but you have tensorflow 2.12.0 which is incompatible.\n",
            "ydf 0.11.0 requires protobuf<6.0.0,>=5.29.1, but you have protobuf 4.25.7 which is incompatible.\u001b[0m\u001b[31m\n",
            "\u001b[0mSuccessfully installed gast-0.4.0 google-auth-oauthlib-1.0.0 jax-0.4.30 jaxlib-0.4.30 keras-2.12.0 protobuf-4.25.7 tensorboard-2.12.3 tensorflow-2.12.0 tensorflow-estimator-2.12.0 wrapt-1.14.1\n"
          ]
        },
        {
          "output_type": "display_data",
          "data": {
            "application/vnd.colab-display-data+json": {
              "pip_warning": {
                "packages": [
                  "gast",
                  "jaxlib",
                  "wrapt"
                ]
              },
              "id": "e6f437f34c6948798d82fa978d5dacd3"
            }
          },
          "metadata": {}
        }
      ]
    },
    {
      "cell_type": "code",
      "source": [
        "# Data Handling\n",
        "import pandas as pd\n",
        "import numpy as np\n",
        "\n",
        "# Visualization\n",
        "import matplotlib.pyplot as plt\n",
        "import seaborn as sns\n",
        "\n",
        "# Content-based\n",
        "from sklearn.feature_extraction.text import TfidfVectorizer\n",
        "from sklearn.metrics.pairwise import cosine_similarity\n",
        "\n",
        "# Collaborative Filtering\n",
        "from surprise import Dataset, Reader, SVD, KNNBasic\n",
        "from surprise.model_selection import cross_validate, train_test_split\n",
        "from surprise import accuracy\n",
        "\n",
        "# Evaluation\n",
        "from sklearn.metrics import mean_squared_error, mean_absolute_error\n",
        "\n",
        "# Others\n",
        "import warnings\n",
        "warnings.filterwarnings('ignore')\n",
        "\n",
        "import tensorflow as tf\n",
        "from tensorflow import keras\n",
        "from tensorflow.keras import layers"
      ],
      "metadata": {
        "id": "j4Lw6yMtKTz3"
      },
      "execution_count": 2,
      "outputs": []
    },
    {
      "cell_type": "markdown",
      "source": [
        "# **Load Dataset**\n"
      ],
      "metadata": {
        "id": "zVsW4Zh0NDu5"
      }
    },
    {
      "cell_type": "code",
      "source": [
        "# Load all dataset files\n",
        "movies = pd.read_csv('/content/drive/MyDrive/Dataset/SistemRekomendasi/Movies/movies.csv')\n",
        "ratings = pd.read_csv('/content/drive/MyDrive/Dataset/SistemRekomendasi/Movies/ratings.csv')\n",
        "tags = pd.read_csv('/content/drive/MyDrive/Dataset/SistemRekomendasi/Movies/tags.csv')\n",
        "links = pd.read_csv('/content/drive/MyDrive/Dataset/SistemRekomendasi/Movies/links.csv')\n",
        "\n",
        "# Tampilkan jumlah entitas penting\n",
        "print(\"Jumlah film unik:\", movies['movieId'].nunique())\n",
        "print(\"Jumlah pengguna unik:\", ratings['userId'].nunique())\n",
        "print(\"Jumlah total rating:\", len(ratings))\n",
        "print(\"Jumlah film yang diberi rating:\", ratings['movieId'].nunique())\n",
        "print(\"Jumlah film yang diberi tag:\", tags['movieId'].nunique())\n",
        "print(\"Jumlah tag unik:\", tags['tag'].nunique())\n",
        "print(\"Jumlah total entri tag:\", len(tags))\n",
        "print(\"Jumlah film yang memiliki link ke IMDb/TMDb:\", links['movieId'].nunique())"
      ],
      "metadata": {
        "colab": {
          "base_uri": "https://localhost:8080/"
        },
        "id": "5VHVr_lmPDJb",
        "outputId": "d35fb76d-abec-41bc-d698-3c85415db2b1"
      },
      "execution_count": 3,
      "outputs": [
        {
          "output_type": "stream",
          "name": "stdout",
          "text": [
            "Jumlah film unik: 9742\n",
            "Jumlah pengguna unik: 610\n",
            "Jumlah total rating: 100836\n",
            "Jumlah film yang diberi rating: 9724\n",
            "Jumlah film yang diberi tag: 1572\n",
            "Jumlah tag unik: 1589\n",
            "Jumlah total entri tag: 3683\n",
            "Jumlah film yang memiliki link ke IMDb/TMDb: 9742\n"
          ]
        }
      ]
    },
    {
      "cell_type": "markdown",
      "source": [
        "# **Univariate Exploratory Data Analysis**\n",
        "Variabel-variabel pada MovieLens dataset adalah sebagai berikut:\n",
        "\n",
        "**movies**: Berisi daftar film beserta genre-nya.\n",
        "\n",
        "**ratings**: Berisi informasi penilaian atau rating yang diberikan oleh pengguna terhadap film.\n",
        "\n",
        "**tags**: Berisi tag atau label yang ditambahkan oleh pengguna ke film tertentu.\n",
        "\n",
        "**links**: Berisi tautan ke situs referensi film seperti IMDb dan TMDb (The Movie Database)."
      ],
      "metadata": {
        "id": "m13cpobBZfic"
      }
    },
    {
      "cell_type": "code",
      "source": [
        "movies.info()"
      ],
      "metadata": {
        "colab": {
          "base_uri": "https://localhost:8080/"
        },
        "id": "QV6HIjS0bkyQ",
        "outputId": "830e2484-0ebd-4856-da95-dd24fe21ac1a"
      },
      "execution_count": 4,
      "outputs": [
        {
          "output_type": "stream",
          "name": "stdout",
          "text": [
            "<class 'pandas.core.frame.DataFrame'>\n",
            "RangeIndex: 9742 entries, 0 to 9741\n",
            "Data columns (total 3 columns):\n",
            " #   Column   Non-Null Count  Dtype \n",
            "---  ------   --------------  ----- \n",
            " 0   movieId  9742 non-null   int64 \n",
            " 1   title    9742 non-null   object\n",
            " 2   genres   9742 non-null   object\n",
            "dtypes: int64(1), object(2)\n",
            "memory usage: 228.5+ KB\n"
          ]
        }
      ]
    },
    {
      "cell_type": "code",
      "source": [
        "ratings.info()"
      ],
      "metadata": {
        "colab": {
          "base_uri": "https://localhost:8080/"
        },
        "id": "Sa1fmUGjYV9C",
        "outputId": "0dad108f-6c57-42ca-e0bf-0c42ea603852"
      },
      "execution_count": 5,
      "outputs": [
        {
          "output_type": "stream",
          "name": "stdout",
          "text": [
            "<class 'pandas.core.frame.DataFrame'>\n",
            "RangeIndex: 100836 entries, 0 to 100835\n",
            "Data columns (total 4 columns):\n",
            " #   Column     Non-Null Count   Dtype  \n",
            "---  ------     --------------   -----  \n",
            " 0   userId     100836 non-null  int64  \n",
            " 1   movieId    100836 non-null  int64  \n",
            " 2   rating     100836 non-null  float64\n",
            " 3   timestamp  100836 non-null  int64  \n",
            "dtypes: float64(1), int64(3)\n",
            "memory usage: 3.1 MB\n"
          ]
        }
      ]
    },
    {
      "cell_type": "code",
      "source": [
        "tags.info()"
      ],
      "metadata": {
        "colab": {
          "base_uri": "https://localhost:8080/"
        },
        "id": "ikJuhmtRbvw-",
        "outputId": "a7614507-823d-4dab-9c23-160b2a03f234"
      },
      "execution_count": 6,
      "outputs": [
        {
          "output_type": "stream",
          "name": "stdout",
          "text": [
            "<class 'pandas.core.frame.DataFrame'>\n",
            "RangeIndex: 3683 entries, 0 to 3682\n",
            "Data columns (total 4 columns):\n",
            " #   Column     Non-Null Count  Dtype \n",
            "---  ------     --------------  ----- \n",
            " 0   userId     3683 non-null   int64 \n",
            " 1   movieId    3683 non-null   int64 \n",
            " 2   tag        3683 non-null   object\n",
            " 3   timestamp  3683 non-null   int64 \n",
            "dtypes: int64(3), object(1)\n",
            "memory usage: 115.2+ KB\n"
          ]
        }
      ]
    },
    {
      "cell_type": "code",
      "source": [
        "links.info()"
      ],
      "metadata": {
        "colab": {
          "base_uri": "https://localhost:8080/"
        },
        "id": "BEAJBgr5b12N",
        "outputId": "39a393d6-df93-433f-f8a3-124dac06ce54"
      },
      "execution_count": 7,
      "outputs": [
        {
          "output_type": "stream",
          "name": "stdout",
          "text": [
            "<class 'pandas.core.frame.DataFrame'>\n",
            "RangeIndex: 9742 entries, 0 to 9741\n",
            "Data columns (total 3 columns):\n",
            " #   Column   Non-Null Count  Dtype  \n",
            "---  ------   --------------  -----  \n",
            " 0   movieId  9742 non-null   int64  \n",
            " 1   imdbId   9742 non-null   int64  \n",
            " 2   tmdbId   9734 non-null   float64\n",
            "dtypes: float64(1), int64(2)\n",
            "memory usage: 228.5 KB\n"
          ]
        }
      ]
    },
    {
      "cell_type": "code",
      "source": [
        "import seaborn as sns\n",
        "import matplotlib.pyplot as plt\n",
        "\n",
        "plt.figure(figsize=(8, 5))\n",
        "sns.countplot(data=ratings, x='rating', palette='viridis')\n",
        "plt.title('Distribusi Rating')\n",
        "plt.xlabel('Rating')\n",
        "plt.ylabel('Jumlah')\n",
        "plt.show()"
      ],
      "metadata": {
        "colab": {
          "base_uri": "https://localhost:8080/",
          "height": 487
        },
        "id": "s83l9RLPpoSQ",
        "outputId": "96271877-5b17-4a01-e77e-ed6552b0aeef"
      },
      "execution_count": 8,
      "outputs": [
        {
          "output_type": "display_data",
          "data": {
            "text/plain": [
              "<Figure size 800x500 with 1 Axes>"
            ],
            "image/png": "[encoded data removed]"
          },
          "metadata": {}
        }
      ]
    },
    {
      "cell_type": "markdown",
      "source": [
        "**Interpretasi**:\n",
        "* Rating paling umum adalah 4.0, disusul oleh 3.0 dan 5.0.\n",
        "* Artinya, pengguna cenderung memberikan rating positif terhadap film.\n",
        "* Distribusi ini tidak simetris—cenderung ke arah rating tinggi, menunjukkan bias positif pengguna."
      ],
      "metadata": {
        "id": "hxDL5WFUFLRV"
      }
    },
    {
      "cell_type": "code",
      "source": [
        "# Explode genre\n",
        "movies_exploded = movies.copy()\n",
        "movies_exploded['genres'] = movies_exploded['genres'].str.split('|')\n",
        "movies_exploded = movies_exploded.explode('genres')\n",
        "\n",
        "# Hitung jumlah film per genre\n",
        "genre_counts = movies_exploded['genres'].value_counts()\n",
        "\n",
        "plt.figure(figsize=(12, 6))\n",
        "sns.barplot(x=genre_counts.index, y=genre_counts.values, palette='magma')\n",
        "plt.xticks(rotation=45)\n",
        "plt.title('Jumlah Film per Genre')\n",
        "plt.xlabel('Genre')\n",
        "plt.ylabel('Jumlah Film')\n",
        "plt.show()"
      ],
      "metadata": {
        "colab": {
          "base_uri": "https://localhost:8080/",
          "height": 535
        },
        "id": "WiczjQ_8qHkG",
        "outputId": "00095392-36d5-498f-ac0d-1942c4317ba4"
      },
      "execution_count": 9,
      "outputs": [
        {
          "output_type": "display_data",
          "data": {
            "text/plain": [
              "<Figure size 1200x600 with 1 Axes>"
            ],
            "image/png": "[encoded data removed]"
          },
          "metadata": {}
        }
      ]
    },
    {
      "cell_type": "markdown",
      "source": [
        "**Interpretasi**:\n",
        "* Genre Drama dan Comedy mendominasi, masing-masing lebih dari 3500 dan 3000 film.\n",
        "* Genre dengan jumlah film paling sedikit: Film-Noir, Western, dan (no genres listed)."
      ],
      "metadata": {
        "id": "tFfK38lHFZ8I"
      }
    },
    {
      "cell_type": "code",
      "source": [
        "top_tags = tags['tag'].value_counts().head(15)\n",
        "\n",
        "plt.figure(figsize=(10, 6))\n",
        "sns.barplot(y=top_tags.index, x=top_tags.values, palette='coolwarm')\n",
        "plt.title('Top 15 Tag Paling Populer')\n",
        "plt.xlabel('Jumlah')\n",
        "plt.ylabel('Tag')\n",
        "plt.show()"
      ],
      "metadata": {
        "colab": {
          "base_uri": "https://localhost:8080/",
          "height": 509
        },
        "id": "zH6L0a-mqYKv",
        "outputId": "081b7429-3ce5-4e8f-baec-1388a2f681d9"
      },
      "execution_count": 10,
      "outputs": [
        {
          "output_type": "display_data",
          "data": {
            "text/plain": [
              "<Figure size 1000x600 with 1 Axes>"
            ],
            "image/png": "[encoded data removed]"
          },
          "metadata": {}
        }
      ]
    },
    {
      "cell_type": "markdown",
      "source": [
        "**Interpretasi**:\n",
        "* Tag paling umum: \"In Netflix queue\", jauh lebih tinggi dari tag lain.\n",
        "* Banyak tag menggambarkan suasana atau gaya film, seperti: \"atmospheric\", \"thought-provoking\", \"dark comedy\", \"surreal\""
      ],
      "metadata": {
        "id": "V_QzuBMRFg5R"
      }
    },
    {
      "cell_type": "markdown",
      "source": [
        "# **Data Preprocessing & Data Preparation**"
      ],
      "metadata": {
        "id": "m5Coljrpw3yr"
      }
    },
    {
      "cell_type": "markdown",
      "source": [
        "## **Cek Missing Values pada setiap data**"
      ],
      "metadata": {
        "id": "XZv1HWqq8AqS"
      }
    },
    {
      "cell_type": "code",
      "source": [
        "print(\"Missing values pada movies:\")\n",
        "print(movies.isnull().sum())\n",
        "\n",
        "print(\"\\nMissing values pada ratings:\")\n",
        "print(ratings.isnull().sum())\n",
        "\n",
        "print(\"\\nMissing values pada tags:\")\n",
        "print(tags.isnull().sum())\n",
        "\n",
        "print(\"\\nMissing values pada links:\")\n",
        "print(links.isnull().sum())"
      ],
      "metadata": {
        "colab": {
          "base_uri": "https://localhost:8080/"
        },
        "id": "3Ff_lj7m3KfX",
        "outputId": "77996644-963c-4617-8101-a6d31fd4f694"
      },
      "execution_count": 11,
      "outputs": [
        {
          "output_type": "stream",
          "name": "stdout",
          "text": [
            "Missing values pada movies:\n",
            "movieId    0\n",
            "title      0\n",
            "genres     0\n",
            "dtype: int64\n",
            "\n",
            "Missing values pada ratings:\n",
            "userId       0\n",
            "movieId      0\n",
            "rating       0\n",
            "timestamp    0\n",
            "dtype: int64\n",
            "\n",
            "Missing values pada tags:\n",
            "userId       0\n",
            "movieId      0\n",
            "tag          0\n",
            "timestamp    0\n",
            "dtype: int64\n",
            "\n",
            "Missing values pada links:\n",
            "movieId    0\n",
            "imdbId     0\n",
            "tmdbId     8\n",
            "dtype: int64\n"
          ]
        }
      ]
    },
    {
      "cell_type": "markdown",
      "source": [
        "* Kolom **tmdbId** pada dataset links memiliki 8 nilai kosong. Namun karena **tmdbId** tidak digunakan langsung dalam proses rekomendasi (baik content-based maupun collaborative filtering), nilai kosong ini **tidak berdampak signifikan** dan **tidak perlu dihapus** saat ini.\n",
        "\n",
        "* **Tidak ditemukan missing values** pada dataset utama lainnya seperti **ratings**, **movies**, dan **tags**. Maka tidak perlu dilakukan imputasi atau pembersihan data tambahan pada tahap awal."
      ],
      "metadata": {
        "id": "4Jm0GrtP3wDM"
      }
    },
    {
      "cell_type": "markdown",
      "source": [
        "## **Cek duplikasi pada setiap data**"
      ],
      "metadata": {
        "id": "OvJqadcH8FrA"
      }
    },
    {
      "cell_type": "code",
      "source": [
        "print(\"Duplikat di ratings:\", ratings.duplicated().sum())\n",
        "print(\"Duplikat di movies:\", movies.duplicated().sum())\n",
        "print(\"Duplikat di tags:\", tags.duplicated().sum())"
      ],
      "metadata": {
        "colab": {
          "base_uri": "https://localhost:8080/"
        },
        "id": "jf-rO_7s7bqe",
        "outputId": "38f1ddc1-6bed-48b2-96fa-d816153082ef"
      },
      "execution_count": 12,
      "outputs": [
        {
          "output_type": "stream",
          "name": "stdout",
          "text": [
            "Duplikat di ratings: 0\n",
            "Duplikat di movies: 0\n",
            "Duplikat di tags: 0\n"
          ]
        }
      ]
    },
    {
      "cell_type": "markdown",
      "source": [
        "Tidak ada duplikasi data"
      ],
      "metadata": {
        "id": "9Fe66NjZFqur"
      }
    },
    {
      "cell_type": "markdown",
      "source": [
        "## **Cek Konsistensi ID**"
      ],
      "metadata": {
        "id": "yzvPcb8E8KAI"
      }
    },
    {
      "cell_type": "code",
      "source": [
        "missing_movieIds_in_ratings = ~ratings['movieId'].isin(movies['movieId'])\n",
        "missing_movieIds_in_tags = ~tags['movieId'].isin(movies['movieId'])\n",
        "\n",
        "print(\"movieId di ratings tapi tidak ada di movies:\", ratings[missing_movieIds_in_ratings].shape[0])\n",
        "print(\"movieId di tags tapi tidak ada di movies:\", tags[missing_movieIds_in_tags].shape[0])"
      ],
      "metadata": {
        "colab": {
          "base_uri": "https://localhost:8080/"
        },
        "id": "PuzQRrfm7ocG",
        "outputId": "d28e6f7b-7c20-4349-bbf4-82f93f1a9cc5"
      },
      "execution_count": 13,
      "outputs": [
        {
          "output_type": "stream",
          "name": "stdout",
          "text": [
            "movieId di ratings tapi tidak ada di movies: 0\n",
            "movieId di tags tapi tidak ada di movies: 0\n"
          ]
        }
      ]
    },
    {
      "cell_type": "markdown",
      "source": [
        "## **Menyiapkan Data Content-Based Filtering**\n",
        "\n",
        "* Menggabungkan tag dari tabel tags berdasarkan movieId menggunakan groupby dan join.\n",
        "* Merge data hasil gabungan movie_tags ke movies berdasarkan movieId.\n",
        "* Mengisi nilai kosong (NaN) pada kolom genres dan tag dengan string kosong ('').\n",
        "* Menggabungkan genres dan tag menjadi satu kolom content, di mana pemisah | dihapus dan diganti dengan spasi."
      ],
      "metadata": {
        "id": "K_j1oCoj5SXG"
      }
    },
    {
      "cell_type": "code",
      "source": [
        "# Menggabungkan tags dengan movies berdasarkan movieId\n",
        "movie_tags = tags.groupby('movieId')['tag'].apply(lambda x: ' '.join(x)).reset_index()\n",
        "movies_content = movies.merge(movie_tags, on='movieId', how='left')\n",
        "\n",
        "# Mengisi nilai NaN pada kolom 'tag' dan 'genres'\n",
        "movies_content['tag'] = movies_content['tag'].fillna('')\n",
        "movies_content['genres'] = movies_content['genres'].fillna('')\n",
        "\n",
        "# Membuat kolom 'content' yang merupakan gabungan dari genres dan tag\n",
        "movies_content['content'] = movies_content['genres'].str.replace('|', ' ') + ' ' + movies_content['tag']"
      ],
      "metadata": {
        "id": "02HkjE-o5UHo"
      },
      "execution_count": 14,
      "outputs": []
    },
    {
      "cell_type": "code",
      "source": [
        "# Menampilkan 5 baris pertama untuk memastikan penggabungan berhasil\n",
        "print(\"Data movies_content setelah preprocessing:\")\n",
        "print(movies_content.head())"
      ],
      "metadata": {
        "colab": {
          "base_uri": "https://localhost:8080/"
        },
        "id": "f7zisD2eyh8N",
        "outputId": "32412c6e-50ec-46f5-ebea-d4a924c705f6"
      },
      "execution_count": 15,
      "outputs": [
        {
          "output_type": "stream",
          "name": "stdout",
          "text": [
            "Data movies_content setelah preprocessing:\n",
            "   movieId                               title  \\\n",
            "0        1                    Toy Story (1995)   \n",
            "1        2                      Jumanji (1995)   \n",
            "2        3             Grumpier Old Men (1995)   \n",
            "3        4            Waiting to Exhale (1995)   \n",
            "4        5  Father of the Bride Part II (1995)   \n",
            "\n",
            "                                        genres  \\\n",
            "0  Adventure|Animation|Children|Comedy|Fantasy   \n",
            "1                   Adventure|Children|Fantasy   \n",
            "2                               Comedy|Romance   \n",
            "3                         Comedy|Drama|Romance   \n",
            "4                                       Comedy   \n",
            "\n",
            "                                            tag  \\\n",
            "0                               pixar pixar fun   \n",
            "1  fantasy magic board game Robin Williams game   \n",
            "2                                     moldy old   \n",
            "3                                                 \n",
            "4                              pregnancy remake   \n",
            "\n",
            "                                             content  \n",
            "0  Adventure Animation Children Comedy Fantasy pi...  \n",
            "1  Adventure Children Fantasy fantasy magic board...  \n",
            "2                           Comedy Romance moldy old  \n",
            "3                              Comedy Drama Romance   \n",
            "4                            Comedy pregnancy remake  \n"
          ]
        }
      ]
    },
    {
      "cell_type": "markdown",
      "source": [
        "Output menunjukkan 5 baris pertama dari movies_content:\n",
        "\n",
        "Setiap film kini memiliki kolom content berupa gabungan genres dan tag.\n",
        "\n",
        "Misalnya:\n",
        "\n",
        "\"Toy Story (1995)\" → Adventure Animation Children Comedy Fantasy pixar pixar fun\n",
        "\n",
        "Ini menyiapkan data untuk representasi teks yang akan digunakan di TF-IDF."
      ],
      "metadata": {
        "id": "tZmNxIVCImDS"
      }
    },
    {
      "cell_type": "markdown",
      "source": [
        "## **Transformasi Konten dengan TF-IDF**\n",
        "\n",
        "* Inisialisasi TfidfVectorizer dari scikit-learn, dengan stop_words='english'.\n",
        "* Melakukan fit_transform() pada kolom content dari movies_content.\n",
        "* Menampilkan dimensi hasil transformasi (shape) dan beberapa baris pertama dalam bentuk dense."
      ],
      "metadata": {
        "id": "pTwyhkgi5b5x"
      }
    },
    {
      "cell_type": "code",
      "source": [
        "from sklearn.feature_extraction.text import TfidfVectorizer\n",
        "\n",
        "# Inisialisasi TF-IDF Vectorizer\n",
        "tfidf = TfidfVectorizer(stop_words='english')\n",
        "tfidf_matrix = tfidf.fit_transform(movies_content['content'])"
      ],
      "metadata": {
        "id": "dssbEQrz54gg"
      },
      "execution_count": 16,
      "outputs": []
    },
    {
      "cell_type": "code",
      "source": [
        "# Melihat ukuran dari matriks TF-IDF\n",
        "print(\"\\nUkuran matriks TF-IDF:\")\n",
        "print(tfidf_matrix.shape)"
      ],
      "metadata": {
        "colab": {
          "base_uri": "https://localhost:8080/"
        },
        "id": "G5oaJMP4yrna",
        "outputId": "089899d4-381a-4c55-ba81-04707b6b1672"
      },
      "execution_count": 17,
      "outputs": [
        {
          "output_type": "stream",
          "name": "stdout",
          "text": [
            "\n",
            "Ukuran matriks TF-IDF:\n",
            "(9742, 1677)\n"
          ]
        }
      ]
    },
    {
      "cell_type": "markdown",
      "source": [
        "Matriks TF-IDF berukuran (9742, 1677), artinya 9742 film direpresentasikan sebagai vektor berdimensi 1677 fitur (kata unik setelah preprocessing)."
      ],
      "metadata": {
        "id": "kkpPFHdNI0gU"
      }
    },
    {
      "cell_type": "code",
      "source": [
        "# Melihat beberapa baris pertama dari matriks TF-IDF dalam bentuk dens\n",
        "print(\"\\nBeberapa baris pertama matriks TF-IDF (dense):\")\n",
        "print(tfidf_matrix[:10].todense())"
      ],
      "metadata": {
        "colab": {
          "base_uri": "https://localhost:8080/"
        },
        "id": "WDunCn2cysXJ",
        "outputId": "df36f030-1b2d-401d-a777-86b94d01f9ea"
      },
      "execution_count": 18,
      "outputs": [
        {
          "output_type": "stream",
          "name": "stdout",
          "text": [
            "\n",
            "Beberapa baris pertama matriks TF-IDF (dense):\n",
            "[[0. 0. 0. ... 0. 0. 0.]\n",
            " [0. 0. 0. ... 0. 0. 0.]\n",
            " [0. 0. 0. ... 0. 0. 0.]\n",
            " ...\n",
            " [0. 0. 0. ... 0. 0. 0.]\n",
            " [0. 0. 0. ... 0. 0. 0.]\n",
            " [0. 0. 0. ... 0. 0. 0.]]\n"
          ]
        }
      ]
    },
    {
      "cell_type": "markdown",
      "source": [
        "Matriks dense berisi banyak nilai nol karena representasi TF-IDF sangat sparse (jarang ada kemunculan kata yang sama di banyak film)."
      ],
      "metadata": {
        "id": "oDhhew5eI7pd"
      }
    },
    {
      "cell_type": "markdown",
      "source": [
        "## **Menyiapkan Data Collaborative Filtering**\n",
        "\n",
        "* Memfilter pengguna (userId) yang memberi minimal 10 rating.\n",
        "* Memfilter film (movieId) yang mendapatkan minimal 10 rating.\n",
        "* Ini bertujuan untuk mengurangi sparsity data dan meningkatkan kualitas pelatihan model."
      ],
      "metadata": {
        "id": "4nmfCxoj57lO"
      }
    },
    {
      "cell_type": "code",
      "source": [
        "# Filter user dengan minimal 10 rating\n",
        "user_counts = ratings['userId'].value_counts()\n",
        "active_users = user_counts[user_counts >= 10].index\n",
        "ratings = ratings[ratings['userId'].isin(active_users)]\n",
        "\n",
        "# Filter film dengan minimal 10 rating\n",
        "movie_counts = ratings['movieId'].value_counts()\n",
        "popular_movies = movie_counts[movie_counts >= 10].index\n",
        "ratings = ratings[ratings['movieId'].isin(popular_movies)]"
      ],
      "metadata": {
        "id": "oGvhgGlY5_QS"
      },
      "execution_count": 19,
      "outputs": []
    },
    {
      "cell_type": "code",
      "source": [
        "# Menampilkan beberapa baris pertama dari ratings_filtered untuk melihat perubahan\n",
        "print(\"\\nData ratings_filtered setelah filter user dan movie:\")\n",
        "print(ratings.head())"
      ],
      "metadata": {
        "colab": {
          "base_uri": "https://localhost:8080/"
        },
        "id": "l9eC9AAYyzKr",
        "outputId": "05222b2a-3d38-430e-8eb7-ee3725f5986c"
      },
      "execution_count": 20,
      "outputs": [
        {
          "output_type": "stream",
          "name": "stdout",
          "text": [
            "\n",
            "Data ratings_filtered setelah filter user dan movie:\n",
            "   userId  movieId  rating  timestamp\n",
            "0       1        1     4.0  964982703\n",
            "1       1        3     4.0  964981247\n",
            "2       1        6     4.0  964982224\n",
            "3       1       47     5.0  964983815\n",
            "4       1       50     5.0  964982931\n"
          ]
        }
      ]
    },
    {
      "cell_type": "markdown",
      "source": [
        "## **Pemetaan MovieId ke Judul**\n",
        "\n",
        "* Membuat dictionary dari movieId ke title.\n",
        "* Menampilkan 10 entri pertama."
      ],
      "metadata": {
        "id": "DYxAoLMs6DqC"
      }
    },
    {
      "cell_type": "code",
      "source": [
        "movie_id_to_title = dict(zip(movies['movieId'], movies['title']))"
      ],
      "metadata": {
        "id": "Gu3ebomz6ILO"
      },
      "execution_count": 21,
      "outputs": []
    },
    {
      "cell_type": "code",
      "source": [
        "# Menampilkan sebagian data pemetaan movieId ke judul\n",
        "print(\"\\nPemetaan MovieId ke Judul:\")\n",
        "print(list(movie_id_to_title.items())[:10])  # Menampilkan 10 pasangan pertama"
      ],
      "metadata": {
        "colab": {
          "base_uri": "https://localhost:8080/"
        },
        "id": "4IBRedfZy5ak",
        "outputId": "f785ae0c-3614-4692-8263-c14d00d9fd1b"
      },
      "execution_count": 22,
      "outputs": [
        {
          "output_type": "stream",
          "name": "stdout",
          "text": [
            "\n",
            "Pemetaan MovieId ke Judul:\n",
            "[(1, 'Toy Story (1995)'), (2, 'Jumanji (1995)'), (3, 'Grumpier Old Men (1995)'), (4, 'Waiting to Exhale (1995)'), (5, 'Father of the Bride Part II (1995)'), (6, 'Heat (1995)'), (7, 'Sabrina (1995)'), (8, 'Tom and Huck (1995)'), (9, 'Sudden Death (1995)'), (10, 'GoldenEye (1995)')]\n"
          ]
        }
      ]
    },
    {
      "cell_type": "markdown",
      "source": [
        "Mapping seperti (1, 'Toy Story (1995)') akan digunakan untuk menampilkan hasil rekomendasi berdasarkan judul, bukan ID numerik."
      ],
      "metadata": {
        "id": "etZj3ZbvJOH6"
      }
    },
    {
      "cell_type": "markdown",
      "source": [
        "# **Model Development**"
      ],
      "metadata": {
        "id": "6uveFQY09xSn"
      }
    },
    {
      "cell_type": "markdown",
      "source": [
        "## **Content-Based Filtering**\n",
        "\n",
        "Pada pendekatan ini, kita akan menggunakan TF-IDF Vectorization untuk mengubah kolom content (gabungan genre dan tag) menjadi vektor. Kemudian, kita akan menghitung Cosine Similarity untuk mencari film yang paling mirip dengan film yang telah diberikan rating oleh pengguna.\n",
        "\n",
        "Langkah-langkah Content-Based Filtering:\n",
        "* TF-IDF Vectorization: Ubah kolom content menjadi vektor numerik menggunakan TF-IDF Vectorizer.\n",
        "* Cosine Similarity: Hitung kemiripan antara film-film berdasarkan vektor yang dihasilkan menggunakan Cosine Similarity.\n",
        "* Rekomendasi Film: Berdasarkan Cosine Similarity, kita dapat menghasilkan rekomendasi film untuk setiap film."
      ],
      "metadata": {
        "id": "jt0NLbRI92XF"
      }
    },
    {
      "cell_type": "code",
      "source": [
        "from sklearn.feature_extraction.text import TfidfVectorizer\n",
        "from sklearn.metrics.pairwise import cosine_similarity\n",
        "\n",
        "# TF-IDF Vectorization\n",
        "tfidf = TfidfVectorizer(stop_words='english')\n",
        "tfidf_matrix = tfidf.fit_transform(movies_content['content'])\n",
        "\n",
        "# Cosine Similarity\n",
        "cosine_sim = cosine_similarity(tfidf_matrix, tfidf_matrix)\n",
        "\n",
        "# Dataframe similarity matrix\n",
        "cosine_sim_df = pd.DataFrame(cosine_sim, index=movies_content['title'], columns=movies_content['title'])\n",
        "cosine_sim_df.sample(5, axis=1).sample(10, axis=0)"
      ],
      "metadata": {
        "id": "jgFyhAH291zu",
        "colab": {
          "base_uri": "https://localhost:8080/",
          "height": 429
        },
        "outputId": "ce1f8aa6-80f7-442f-d979-0fe3a8daa0d3"
      },
      "execution_count": 23,
      "outputs": [
        {
          "output_type": "execute_result",
          "data": {
            "text/plain": [
              "title                        Suspect Zero (2004)  Her Alibi (1989)  \\\n",
              "title                                                                \n",
              "Japanese Story (2003)                   0.000000          0.000000   \n",
              "Crank (2006)                            0.456083          0.000000   \n",
              "City Heat (1984)                        0.000000          0.336742   \n",
              "American Pie (1999)                     0.000000          0.141022   \n",
              "Obsession (1976)                        0.368150          0.000000   \n",
              "Puppet Master (1989)                    0.272242          0.000000   \n",
              "Jesus Camp (2006)                       0.000000          0.000000   \n",
              "Anne of Green Gables (1985)             0.000000          0.000000   \n",
              "Animal Farm (1954)                      0.000000          0.000000   \n",
              "Outbreak (1995)                         0.273891          0.000000   \n",
              "\n",
              "title                        Anna and the King (1999)  Cry-Baby (1990)  \\\n",
              "title                                                                    \n",
              "Japanese Story (2003)                        0.540584         0.000000   \n",
              "Crank (2006)                                 0.000000         0.000000   \n",
              "City Heat (1984)                             0.000000         0.207466   \n",
              "American Pie (1999)                          0.073468         0.086883   \n",
              "Obsession (1976)                             0.000000         0.000000   \n",
              "Puppet Master (1989)                         0.000000         0.000000   \n",
              "Jesus Camp (2006)                            0.217863         0.000000   \n",
              "Anne of Green Gables (1985)                  0.238118         0.000000   \n",
              "Animal Farm (1954)                           0.233397         0.000000   \n",
              "Outbreak (1995)                              0.155979         0.000000   \n",
              "\n",
              "title                        The Squeeze (2015)  \n",
              "title                                            \n",
              "Japanese Story (2003)                  0.678719  \n",
              "Crank (2006)                           0.000000  \n",
              "City Heat (1984)                       0.433212  \n",
              "American Pie (1999)                    0.089181  \n",
              "Obsession (1976)                       0.000000  \n",
              "Puppet Master (1989)                   0.000000  \n",
              "Jesus Camp (2006)                      0.273534  \n",
              "Anne of Green Gables (1985)            0.298964  \n",
              "Animal Farm (1954)                     0.293036  \n",
              "Outbreak (1995)                        0.195836  "
            ],
            "text/html": [
              "\n",
              "  <div id=\"df-e3bd9f69-4ab4-4c86-b1ff-163e2bb0a0c8\" class=\"colab-df-container\">\n",
              "    <div>\n",
              "<style scoped>\n",
              "    .dataframe tbody tr th:only-of-type {\n",
              "        vertical-align: middle;\n",
              "    }\n",
              "\n",
              "    .dataframe tbody tr th {\n",
              "        vertical-align: top;\n",
              "    }\n",
              "\n",
              "    .dataframe thead th {\n",
              "        text-align: right;\n",
              "    }\n",
              "</style>\n",
              "<table border=\"1\" class=\"dataframe\">\n",
              "  <thead>\n",
              "    <tr style=\"text-align: right;\">\n",
              "      <th>title</th>\n",
              "      <th>Suspect Zero (2004)</th>\n",
              "      <th>Her Alibi (1989)</th>\n",
              "      <th>Anna and the King (1999)</th>\n",
              "      <th>Cry-Baby (1990)</th>\n",
              "      <th>The Squeeze (2015)</th>\n",
              "    </tr>\n",
              "    <tr>\n",
              "      <th>title</th>\n",
              "      <th></th>\n",
              "      <th></th>\n",
              "      <th></th>\n",
              "      <th></th>\n",
              "      <th></th>\n",
              "    </tr>\n",
              "  </thead>\n",
              "  <tbody>\n",
              "    <tr>\n",
              "      <th>Japanese Story (2003)</th>\n",
              "      <td>0.000000</td>\n",
              "      <td>0.000000</td>\n",
              "      <td>0.540584</td>\n",
              "      <td>0.000000</td>\n",
              "      <td>0.678719</td>\n",
              "    </tr>\n",
              "    <tr>\n",
              "      <th>Crank (2006)</th>\n",
              "      <td>0.456083</td>\n",
              "      <td>0.000000</td>\n",
              "      <td>0.000000</td>\n",
              "      <td>0.000000</td>\n",
              "      <td>0.000000</td>\n",
              "    </tr>\n",
              "    <tr>\n",
              "      <th>City Heat (1984)</th>\n",
              "      <td>0.000000</td>\n",
              "      <td>0.336742</td>\n",
              "      <td>0.000000</td>\n",
              "      <td>0.207466</td>\n",
              "      <td>0.433212</td>\n",
              "    </tr>\n",
              "    <tr>\n",
              "      <th>American Pie (1999)</th>\n",
              "      <td>0.000000</td>\n",
              "      <td>0.141022</td>\n",
              "      <td>0.073468</td>\n",
              "      <td>0.086883</td>\n",
              "      <td>0.089181</td>\n",
              "    </tr>\n",
              "    <tr>\n",
              "      <th>Obsession (1976)</th>\n",
              "      <td>0.368150</td>\n",
              "      <td>0.000000</td>\n",
              "      <td>0.000000</td>\n",
              "      <td>0.000000</td>\n",
              "      <td>0.000000</td>\n",
              "    </tr>\n",
              "    <tr>\n",
              "      <th>Puppet Master (1989)</th>\n",
              "      <td>0.272242</td>\n",
              "      <td>0.000000</td>\n",
              "      <td>0.000000</td>\n",
              "      <td>0.000000</td>\n",
              "      <td>0.000000</td>\n",
              "    </tr>\n",
              "    <tr>\n",
              "      <th>Jesus Camp (2006)</th>\n",
              "      <td>0.000000</td>\n",
              "      <td>0.000000</td>\n",
              "      <td>0.217863</td>\n",
              "      <td>0.000000</td>\n",
              "      <td>0.273534</td>\n",
              "    </tr>\n",
              "    <tr>\n",
              "      <th>Anne of Green Gables (1985)</th>\n",
              "      <td>0.000000</td>\n",
              "      <td>0.000000</td>\n",
              "      <td>0.238118</td>\n",
              "      <td>0.000000</td>\n",
              "      <td>0.298964</td>\n",
              "    </tr>\n",
              "    <tr>\n",
              "      <th>Animal Farm (1954)</th>\n",
              "      <td>0.000000</td>\n",
              "      <td>0.000000</td>\n",
              "      <td>0.233397</td>\n",
              "      <td>0.000000</td>\n",
              "      <td>0.293036</td>\n",
              "    </tr>\n",
              "    <tr>\n",
              "      <th>Outbreak (1995)</th>\n",
              "      <td>0.273891</td>\n",
              "      <td>0.000000</td>\n",
              "      <td>0.155979</td>\n",
              "      <td>0.000000</td>\n",
              "      <td>0.195836</td>\n",
              "    </tr>\n",
              "  </tbody>\n",
              "</table>\n",
              "</div>\n",
              "    <div class=\"colab-df-buttons\">\n",
              "\n",
              "  <div class=\"colab-df-container\">\n",
              "    <button class=\"colab-df-convert\" onclick=\"convertToInteractive('df-e3bd9f69-4ab4-4c86-b1ff-163e2bb0a0c8')\"\n",
              "            title=\"Convert this dataframe to an interactive table.\"\n",
              "            style=\"display:none;\">\n",
              "\n",
              "  <svg xmlns=\"http://www.w3.org/2000/svg\" height=\"24px\" viewBox=\"0 -960 960 960\">\n",
              "    <path d=\"M120-120v-720h720v720H120Zm60-500h600v-160H180v160Zm220 220h160v-160H400v160Zm0 220h160v-160H400v160ZM180-400h160v-160H180v160Zm440 0h160v-160H620v160ZM180-180h160v-160H180v160Zm440 0h160v-160H620v160Z\"/>\n",
              "  </svg>\n",
              "    </button>\n",
              "\n",
              "  <style>\n",
              "    .colab-df-container {\n",
              "      display:flex;\n",
              "      gap: 12px;\n",
              "    }\n",
              "\n",
              "    .colab-df-convert {\n",
              "      background-color: #E8F0FE;\n",
              "      border: none;\n",
              "      border-radius: 50%;\n",
              "      cursor: pointer;\n",
              "      display: none;\n",
              "      fill: #1967D2;\n",
              "      height: 32px;\n",
              "      padding: 0 0 0 0;\n",
              "      width: 32px;\n",
              "    }\n",
              "\n",
              "    .colab-df-convert:hover {\n",
              "      background-color: #E2EBFA;\n",
              "      box-shadow: 0px 1px 2px rgba(60, 64, 67, 0.3), 0px 1px 3px 1px rgba(60, 64, 67, 0.15);\n",
              "      fill: #174EA6;\n",
              "    }\n",
              "\n",
              "    .colab-df-buttons div {\n",
              "      margin-bottom: 4px;\n",
              "    }\n",
              "\n",
              "    [theme=dark] .colab-df-convert {\n",
              "      background-color: #3B4455;\n",
              "      fill: #D2E3FC;\n",
              "    }\n",
              "\n",
              "    [theme=dark] .colab-df-convert:hover {\n",
              "      background-color: #434B5C;\n",
              "      box-shadow: 0px 1px 3px 1px rgba(0, 0, 0, 0.15);\n",
              "      filter: drop-shadow(0px 1px 2px rgba(0, 0, 0, 0.3));\n",
              "      fill: #FFFFFF;\n",
              "    }\n",
              "  </style>\n",
              "\n",
              "    <script>\n",
              "      const buttonEl =\n",
              "        document.querySelector('#df-e3bd9f69-4ab4-4c86-b1ff-163e2bb0a0c8 button.colab-df-convert');\n",
              "      buttonEl.style.display =\n",
              "        google.colab.kernel.accessAllowed ? 'block' : 'none';\n",
              "\n",
              "      async function convertToInteractive(key) {\n",
              "        const element = document.querySelector('#df-e3bd9f69-4ab4-4c86-b1ff-163e2bb0a0c8');\n",
              "        const dataTable =\n",
              "          await google.colab.kernel.invokeFunction('convertToInteractive',\n",
              "                                                    [key], {});\n",
              "        if (!dataTable) return;\n",
              "\n",
              "        const docLinkHtml = 'Like what you see? Visit the ' +\n",
              "          '<a target=\"_blank\" href=https://colab.research.google.com/notebooks/data_table.ipynb>data table notebook</a>'\n",
              "          + ' to learn more about interactive tables.';\n",
              "        element.innerHTML = '';\n",
              "        dataTable['output_type'] = 'display_data';\n",
              "        await google.colab.output.renderOutput(dataTable, element);\n",
              "        const docLink = document.createElement('div');\n",
              "        docLink.innerHTML = docLinkHtml;\n",
              "        element.appendChild(docLink);\n",
              "      }\n",
              "    </script>\n",
              "  </div>\n",
              "\n",
              "\n",
              "    <div id=\"df-9224634e-8b16-42aa-bbac-7cbd3637163b\">\n",
              "      <button class=\"colab-df-quickchart\" onclick=\"quickchart('df-9224634e-8b16-42aa-bbac-7cbd3637163b')\"\n",
              "                title=\"Suggest charts\"\n",
              "                style=\"display:none;\">\n",
              "\n",
              "<svg xmlns=\"http://www.w3.org/2000/svg\" height=\"24px\"viewBox=\"0 0 24 24\"\n",
              "     width=\"24px\">\n",
              "    <g>\n",
              "        <path d=\"M19 3H5c-1.1 0-2 .9-2 2v14c0 1.1.9 2 2 2h14c1.1 0 2-.9 2-2V5c0-1.1-.9-2-2-2zM9 17H7v-7h2v7zm4 0h-2V7h2v10zm4 0h-2v-4h2v4z\"/>\n",
              "    </g>\n",
              "</svg>\n",
              "      </button>\n",
              "\n",
              "<style>\n",
              "  .colab-df-quickchart {\n",
              "      --bg-color: #E8F0FE;\n",
              "      --fill-color: #1967D2;\n",
              "      --hover-bg-color: #E2EBFA;\n",
              "      --hover-fill-color: #174EA6;\n",
              "      --disabled-fill-color: #AAA;\n",
              "      --disabled-bg-color: #DDD;\n",
              "  }\n",
              "\n",
              "  [theme=dark] .colab-df-quickchart {\n",
              "      --bg-color: #3B4455;\n",
              "      --fill-color: #D2E3FC;\n",
              "      --hover-bg-color: #434B5C;\n",
              "      --hover-fill-color: #FFFFFF;\n",
              "      --disabled-bg-color: #3B4455;\n",
              "      --disabled-fill-color: #666;\n",
              "  }\n",
              "\n",
              "  .colab-df-quickchart {\n",
              "    background-color: var(--bg-color);\n",
              "    border: none;\n",
              "    border-radius: 50%;\n",
              "    cursor: pointer;\n",
              "    display: none;\n",
              "    fill: var(--fill-color);\n",
              "    height: 32px;\n",
              "    padding: 0;\n",
              "    width: 32px;\n",
              "  }\n",
              "\n",
              "  .colab-df-quickchart:hover {\n",
              "    background-color: var(--hover-bg-color);\n",
              "    box-shadow: 0 1px 2px rgba(60, 64, 67, 0.3), 0 1px 3px 1px rgba(60, 64, 67, 0.15);\n",
              "    fill: var(--button-hover-fill-color);\n",
              "  }\n",
              "\n",
              "  .colab-df-quickchart-complete:disabled,\n",
              "  .colab-df-quickchart-complete:disabled:hover {\n",
              "    background-color: var(--disabled-bg-color);\n",
              "    fill: var(--disabled-fill-color);\n",
              "    box-shadow: none;\n",
              "  }\n",
              "\n",
              "  .colab-df-spinner {\n",
              "    border: 2px solid var(--fill-color);\n",
              "    border-color: transparent;\n",
              "    border-bottom-color: var(--fill-color);\n",
              "    animation:\n",
              "      spin 1s steps(1) infinite;\n",
              "  }\n",
              "\n",
              "  @keyframes spin {\n",
              "    0% {\n",
              "      border-color: transparent;\n",
              "      border-bottom-color: var(--fill-color);\n",
              "      border-left-color: var(--fill-color);\n",
              "    }\n",
              "    20% {\n",
              "      border-color: transparent;\n",
              "      border-left-color: var(--fill-color);\n",
              "      border-top-color: var(--fill-color);\n",
              "    }\n",
              "    30% {\n",
              "      border-color: transparent;\n",
              "      border-left-color: var(--fill-color);\n",
              "      border-top-color: var(--fill-color);\n",
              "      border-right-color: var(--fill-color);\n",
              "    }\n",
              "    40% {\n",
              "      border-color: transparent;\n",
              "      border-right-color: var(--fill-color);\n",
              "      border-top-color: var(--fill-color);\n",
              "    }\n",
              "    60% {\n",
              "      border-color: transparent;\n",
              "      border-right-color: var(--fill-color);\n",
              "    }\n",
              "    80% {\n",
              "      border-color: transparent;\n",
              "      border-right-color: var(--fill-color);\n",
              "      border-bottom-color: var(--fill-color);\n",
              "    }\n",
              "    90% {\n",
              "      border-color: transparent;\n",
              "      border-bottom-color: var(--fill-color);\n",
              "    }\n",
              "  }\n",
              "</style>\n",
              "\n",
              "      <script>\n",
              "        async function quickchart(key) {\n",
              "          const quickchartButtonEl =\n",
              "            document.querySelector('#' + key + ' button');\n",
              "          quickchartButtonEl.disabled = true;  // To prevent multiple clicks.\n",
              "          quickchartButtonEl.classList.add('colab-df-spinner');\n",
              "          try {\n",
              "            const charts = await google.colab.kernel.invokeFunction(\n",
              "                'suggestCharts', [key], {});\n",
              "          } catch (error) {\n",
              "            console.error('Error during call to suggestCharts:', error);\n",
              "          }\n",
              "          quickchartButtonEl.classList.remove('colab-df-spinner');\n",
              "          quickchartButtonEl.classList.add('colab-df-quickchart-complete');\n",
              "        }\n",
              "        (() => {\n",
              "          let quickchartButtonEl =\n",
              "            document.querySelector('#df-9224634e-8b16-42aa-bbac-7cbd3637163b button');\n",
              "          quickchartButtonEl.style.display =\n",
              "            google.colab.kernel.accessAllowed ? 'block' : 'none';\n",
              "        })();\n",
              "      </script>\n",
              "    </div>\n",
              "\n",
              "    </div>\n",
              "  </div>\n"
            ],
            "application/vnd.google.colaboratory.intrinsic+json": {
              "type": "dataframe",
              "summary": "{\n  \"name\": \"cosine_sim_df\",\n  \"rows\": 10,\n  \"fields\": [\n    {\n      \"column\": \"title\",\n      \"properties\": {\n        \"dtype\": \"string\",\n        \"num_unique_values\": 10,\n        \"samples\": [\n          \"Animal Farm (1954)\",\n          \"Crank (2006)\",\n          \"Puppet Master (1989)\"\n        ],\n        \"semantic_type\": \"\",\n        \"description\": \"\"\n      }\n    },\n    {\n      \"column\": \"Suspect Zero (2004)\",\n      \"properties\": {\n        \"dtype\": \"number\",\n        \"std\": 0.1840555252380531,\n        \"min\": 0.0,\n        \"max\": 0.45608293153662294,\n        \"num_unique_values\": 5,\n        \"samples\": [\n          0.45608293153662294,\n          0.2738910819661276,\n          0.36815021086275007\n        ],\n        \"semantic_type\": \"\",\n        \"description\": \"\"\n      }\n    },\n    {\n      \"column\": \"Her Alibi (1989)\",\n      \"properties\": {\n        \"dtype\": \"number\",\n        \"std\": 0.11078336642235416,\n        \"min\": 0.0,\n        \"max\": 0.33674205737946655,\n        \"num_unique_values\": 3,\n        \"samples\": [\n          0.0,\n          0.33674205737946655,\n          0.14102210854683775\n        ],\n        \"semantic_type\": \"\",\n        \"description\": \"\"\n      }\n    },\n    {\n      \"column\": \"Anna and the King (1999)\",\n      \"properties\": {\n        \"dtype\": \"number\",\n        \"std\": 0.17243652926016997,\n        \"min\": 0.0,\n        \"max\": 0.5405839500597909,\n        \"num_unique_values\": 7,\n        \"samples\": [\n          0.5405839500597909,\n          0.0,\n          0.2333966234230629\n        ],\n        \"semantic_type\": \"\",\n        \"description\": \"\"\n      }\n    },\n    {\n      \"column\": \"Cry-Baby (1990)\",\n      \"properties\": {\n        \"dtype\": \"number\",\n        \"std\": 0.06825327978668035,\n        \"min\": 0.0,\n        \"max\": 0.2074657107876564,\n        \"num_unique_values\": 3,\n        \"samples\": [\n          0.0,\n          0.2074657107876564,\n          0.08688327265719124\n        ],\n        \"semantic_type\": \"\",\n        \"description\": \"\"\n      }\n    },\n    {\n      \"column\": \"The Squeeze (2015)\",\n      \"properties\": {\n        \"dtype\": \"number\",\n        \"std\": 0.2192981103023078,\n        \"min\": 0.0,\n        \"max\": 0.678718734768546,\n        \"num_unique_values\": 8,\n        \"samples\": [\n          0.0,\n          0.2989643040913998,\n          0.678718734768546\n        ],\n        \"semantic_type\": \"\",\n        \"description\": \"\"\n      }\n    }\n  ]\n}"
            }
          },
          "metadata": {},
          "execution_count": 23
        }
      ]
    },
    {
      "cell_type": "markdown",
      "source": [
        "**Contoh kemiripan**:\n",
        "* Japanese Story (2003) vs Anna and the King (1999): 0.540584\n",
        "* Japanese Story (2003) vs The Squeeze (2015): 0.678719\n",
        "\n",
        "*Semakin tinggi nilai, semakin mirip dua film tersebut berdasarkan konten teksnya.*"
      ],
      "metadata": {
        "id": "ASw62NnTJdZo"
      }
    },
    {
      "cell_type": "code",
      "source": [
        "#Fungsi Rekomendasi Film Berdasarkan Judul\n",
        "def movie_recommendations(movie_title, similarity_data=cosine_sim_df, items=movies_content[['title', 'genres']], k=10):\n",
        "    index = similarity_data.loc[:, movie_title].to_numpy().argpartition(range(-1, -k, -1))\n",
        "    closest = similarity_data.columns[index[-1:-(k+2):-1]]\n",
        "    closest = closest.drop(movie_title, errors='ignore')\n",
        "    return pd.DataFrame(closest).merge(items).head(k)"
      ],
      "metadata": {
        "id": "zjsuBSzv7unv"
      },
      "execution_count": 24,
      "outputs": []
    },
    {
      "cell_type": "code",
      "source": [
        "# Uji Coba Mendapatkan rekomendasi film untuk \"Toy Story (1995)\"\n",
        "movies_content[movies_content.title.eq(\"Toy Story (1995)\")]\n",
        "movie_recommendations(\"Toy Story (1995)\")"
      ],
      "metadata": {
        "colab": {
          "base_uri": "https://localhost:8080/",
          "height": 363
        },
        "id": "t3qsM4JP72vM",
        "outputId": "94c915aa-17ae-46fd-9113-8a639f48e178"
      },
      "execution_count": 25,
      "outputs": [
        {
          "output_type": "execute_result",
          "data": {
            "text/plain": [
              "                                               title  \\\n",
              "0                               Bug's Life, A (1998)   \n",
              "1                                 Toy Story 2 (1999)   \n",
              "2                   Guardians of the Galaxy 2 (2017)   \n",
              "3  Asterix and the Vikings (Astérix et les Viking...   \n",
              "4                             Shrek the Third (2007)   \n",
              "5                              Monsters, Inc. (2001)   \n",
              "6                                       Turbo (2013)   \n",
              "7                           The Good Dinosaur (2015)   \n",
              "8                                   Wild, The (2006)   \n",
              "9                   Emperor's New Groove, The (2000)   \n",
              "\n",
              "                                        genres  \n",
              "0          Adventure|Animation|Children|Comedy  \n",
              "1  Adventure|Animation|Children|Comedy|Fantasy  \n",
              "2                      Action|Adventure|Sci-Fi  \n",
              "3  Adventure|Animation|Children|Comedy|Fantasy  \n",
              "4  Adventure|Animation|Children|Comedy|Fantasy  \n",
              "5  Adventure|Animation|Children|Comedy|Fantasy  \n",
              "6  Adventure|Animation|Children|Comedy|Fantasy  \n",
              "7  Adventure|Animation|Children|Comedy|Fantasy  \n",
              "8  Adventure|Animation|Children|Comedy|Fantasy  \n",
              "9  Adventure|Animation|Children|Comedy|Fantasy  "
            ],
            "text/html": [
              "\n",
              "  <div id=\"df-3169f147-0643-48ef-bdce-74851d63570a\" class=\"colab-df-container\">\n",
              "    <div>\n",
              "<style scoped>\n",
              "    .dataframe tbody tr th:only-of-type {\n",
              "        vertical-align: middle;\n",
              "    }\n",
              "\n",
              "    .dataframe tbody tr th {\n",
              "        vertical-align: top;\n",
              "    }\n",
              "\n",
              "    .dataframe thead th {\n",
              "        text-align: right;\n",
              "    }\n",
              "</style>\n",
              "<table border=\"1\" class=\"dataframe\">\n",
              "  <thead>\n",
              "    <tr style=\"text-align: right;\">\n",
              "      <th></th>\n",
              "      <th>title</th>\n",
              "      <th>genres</th>\n",
              "    </tr>\n",
              "  </thead>\n",
              "  <tbody>\n",
              "    <tr>\n",
              "      <th>0</th>\n",
              "      <td>Bug's Life, A (1998)</td>\n",
              "      <td>Adventure|Animation|Children|Comedy</td>\n",
              "    </tr>\n",
              "    <tr>\n",
              "      <th>1</th>\n",
              "      <td>Toy Story 2 (1999)</td>\n",
              "      <td>Adventure|Animation|Children|Comedy|Fantasy</td>\n",
              "    </tr>\n",
              "    <tr>\n",
              "      <th>2</th>\n",
              "      <td>Guardians of the Galaxy 2 (2017)</td>\n",
              "      <td>Action|Adventure|Sci-Fi</td>\n",
              "    </tr>\n",
              "    <tr>\n",
              "      <th>3</th>\n",
              "      <td>Asterix and the Vikings (Astérix et les Viking...</td>\n",
              "      <td>Adventure|Animation|Children|Comedy|Fantasy</td>\n",
              "    </tr>\n",
              "    <tr>\n",
              "      <th>4</th>\n",
              "      <td>Shrek the Third (2007)</td>\n",
              "      <td>Adventure|Animation|Children|Comedy|Fantasy</td>\n",
              "    </tr>\n",
              "    <tr>\n",
              "      <th>5</th>\n",
              "      <td>Monsters, Inc. (2001)</td>\n",
              "      <td>Adventure|Animation|Children|Comedy|Fantasy</td>\n",
              "    </tr>\n",
              "    <tr>\n",
              "      <th>6</th>\n",
              "      <td>Turbo (2013)</td>\n",
              "      <td>Adventure|Animation|Children|Comedy|Fantasy</td>\n",
              "    </tr>\n",
              "    <tr>\n",
              "      <th>7</th>\n",
              "      <td>The Good Dinosaur (2015)</td>\n",
              "      <td>Adventure|Animation|Children|Comedy|Fantasy</td>\n",
              "    </tr>\n",
              "    <tr>\n",
              "      <th>8</th>\n",
              "      <td>Wild, The (2006)</td>\n",
              "      <td>Adventure|Animation|Children|Comedy|Fantasy</td>\n",
              "    </tr>\n",
              "    <tr>\n",
              "      <th>9</th>\n",
              "      <td>Emperor's New Groove, The (2000)</td>\n",
              "      <td>Adventure|Animation|Children|Comedy|Fantasy</td>\n",
              "    </tr>\n",
              "  </tbody>\n",
              "</table>\n",
              "</div>\n",
              "    <div class=\"colab-df-buttons\">\n",
              "\n",
              "  <div class=\"colab-df-container\">\n",
              "    <button class=\"colab-df-convert\" onclick=\"convertToInteractive('df-3169f147-0643-48ef-bdce-74851d63570a')\"\n",
              "            title=\"Convert this dataframe to an interactive table.\"\n",
              "            style=\"display:none;\">\n",
              "\n",
              "  <svg xmlns=\"http://www.w3.org/2000/svg\" height=\"24px\" viewBox=\"0 -960 960 960\">\n",
              "    <path d=\"M120-120v-720h720v720H120Zm60-500h600v-160H180v160Zm220 220h160v-160H400v160Zm0 220h160v-160H400v160ZM180-400h160v-160H180v160Zm440 0h160v-160H620v160ZM180-180h160v-160H180v160Zm440 0h160v-160H620v160Z\"/>\n",
              "  </svg>\n",
              "    </button>\n",
              "\n",
              "  <style>\n",
              "    .colab-df-container {\n",
              "      display:flex;\n",
              "      gap: 12px;\n",
              "    }\n",
              "\n",
              "    .colab-df-convert {\n",
              "      background-color: #E8F0FE;\n",
              "      border: none;\n",
              "      border-radius: 50%;\n",
              "      cursor: pointer;\n",
              "      display: none;\n",
              "      fill: #1967D2;\n",
              "      height: 32px;\n",
              "      padding: 0 0 0 0;\n",
              "      width: 32px;\n",
              "    }\n",
              "\n",
              "    .colab-df-convert:hover {\n",
              "      background-color: #E2EBFA;\n",
              "      box-shadow: 0px 1px 2px rgba(60, 64, 67, 0.3), 0px 1px 3px 1px rgba(60, 64, 67, 0.15);\n",
              "      fill: #174EA6;\n",
              "    }\n",
              "\n",
              "    .colab-df-buttons div {\n",
              "      margin-bottom: 4px;\n",
              "    }\n",
              "\n",
              "    [theme=dark] .colab-df-convert {\n",
              "      background-color: #3B4455;\n",
              "      fill: #D2E3FC;\n",
              "    }\n",
              "\n",
              "    [theme=dark] .colab-df-convert:hover {\n",
              "      background-color: #434B5C;\n",
              "      box-shadow: 0px 1px 3px 1px rgba(0, 0, 0, 0.15);\n",
              "      filter: drop-shadow(0px 1px 2px rgba(0, 0, 0, 0.3));\n",
              "      fill: #FFFFFF;\n",
              "    }\n",
              "  </style>\n",
              "\n",
              "    <script>\n",
              "      const buttonEl =\n",
              "        document.querySelector('#df-3169f147-0643-48ef-bdce-74851d63570a button.colab-df-convert');\n",
              "      buttonEl.style.display =\n",
              "        google.colab.kernel.accessAllowed ? 'block' : 'none';\n",
              "\n",
              "      async function convertToInteractive(key) {\n",
              "        const element = document.querySelector('#df-3169f147-0643-48ef-bdce-74851d63570a');\n",
              "        const dataTable =\n",
              "          await google.colab.kernel.invokeFunction('convertToInteractive',\n",
              "                                                    [key], {});\n",
              "        if (!dataTable) return;\n",
              "\n",
              "        const docLinkHtml = 'Like what you see? Visit the ' +\n",
              "          '<a target=\"_blank\" href=https://colab.research.google.com/notebooks/data_table.ipynb>data table notebook</a>'\n",
              "          + ' to learn more about interactive tables.';\n",
              "        element.innerHTML = '';\n",
              "        dataTable['output_type'] = 'display_data';\n",
              "        await google.colab.output.renderOutput(dataTable, element);\n",
              "        const docLink = document.createElement('div');\n",
              "        docLink.innerHTML = docLinkHtml;\n",
              "        element.appendChild(docLink);\n",
              "      }\n",
              "    </script>\n",
              "  </div>\n",
              "\n",
              "\n",
              "    <div id=\"df-dc56a6e0-d7b8-4eff-adf2-feeb3e5ec100\">\n",
              "      <button class=\"colab-df-quickchart\" onclick=\"quickchart('df-dc56a6e0-d7b8-4eff-adf2-feeb3e5ec100')\"\n",
              "                title=\"Suggest charts\"\n",
              "                style=\"display:none;\">\n",
              "\n",
              "<svg xmlns=\"http://www.w3.org/2000/svg\" height=\"24px\"viewBox=\"0 0 24 24\"\n",
              "     width=\"24px\">\n",
              "    <g>\n",
              "        <path d=\"M19 3H5c-1.1 0-2 .9-2 2v14c0 1.1.9 2 2 2h14c1.1 0 2-.9 2-2V5c0-1.1-.9-2-2-2zM9 17H7v-7h2v7zm4 0h-2V7h2v10zm4 0h-2v-4h2v4z\"/>\n",
              "    </g>\n",
              "</svg>\n",
              "      </button>\n",
              "\n",
              "<style>\n",
              "  .colab-df-quickchart {\n",
              "      --bg-color: #E8F0FE;\n",
              "      --fill-color: #1967D2;\n",
              "      --hover-bg-color: #E2EBFA;\n",
              "      --hover-fill-color: #174EA6;\n",
              "      --disabled-fill-color: #AAA;\n",
              "      --disabled-bg-color: #DDD;\n",
              "  }\n",
              "\n",
              "  [theme=dark] .colab-df-quickchart {\n",
              "      --bg-color: #3B4455;\n",
              "      --fill-color: #D2E3FC;\n",
              "      --hover-bg-color: #434B5C;\n",
              "      --hover-fill-color: #FFFFFF;\n",
              "      --disabled-bg-color: #3B4455;\n",
              "      --disabled-fill-color: #666;\n",
              "  }\n",
              "\n",
              "  .colab-df-quickchart {\n",
              "    background-color: var(--bg-color);\n",
              "    border: none;\n",
              "    border-radius: 50%;\n",
              "    cursor: pointer;\n",
              "    display: none;\n",
              "    fill: var(--fill-color);\n",
              "    height: 32px;\n",
              "    padding: 0;\n",
              "    width: 32px;\n",
              "  }\n",
              "\n",
              "  .colab-df-quickchart:hover {\n",
              "    background-color: var(--hover-bg-color);\n",
              "    box-shadow: 0 1px 2px rgba(60, 64, 67, 0.3), 0 1px 3px 1px rgba(60, 64, 67, 0.15);\n",
              "    fill: var(--button-hover-fill-color);\n",
              "  }\n",
              "\n",
              "  .colab-df-quickchart-complete:disabled,\n",
              "  .colab-df-quickchart-complete:disabled:hover {\n",
              "    background-color: var(--disabled-bg-color);\n",
              "    fill: var(--disabled-fill-color);\n",
              "    box-shadow: none;\n",
              "  }\n",
              "\n",
              "  .colab-df-spinner {\n",
              "    border: 2px solid var(--fill-color);\n",
              "    border-color: transparent;\n",
              "    border-bottom-color: var(--fill-color);\n",
              "    animation:\n",
              "      spin 1s steps(1) infinite;\n",
              "  }\n",
              "\n",
              "  @keyframes spin {\n",
              "    0% {\n",
              "      border-color: transparent;\n",
              "      border-bottom-color: var(--fill-color);\n",
              "      border-left-color: var(--fill-color);\n",
              "    }\n",
              "    20% {\n",
              "      border-color: transparent;\n",
              "      border-left-color: var(--fill-color);\n",
              "      border-top-color: var(--fill-color);\n",
              "    }\n",
              "    30% {\n",
              "      border-color: transparent;\n",
              "      border-left-color: var(--fill-color);\n",
              "      border-top-color: var(--fill-color);\n",
              "      border-right-color: var(--fill-color);\n",
              "    }\n",
              "    40% {\n",
              "      border-color: transparent;\n",
              "      border-right-color: var(--fill-color);\n",
              "      border-top-color: var(--fill-color);\n",
              "    }\n",
              "    60% {\n",
              "      border-color: transparent;\n",
              "      border-right-color: var(--fill-color);\n",
              "    }\n",
              "    80% {\n",
              "      border-color: transparent;\n",
              "      border-right-color: var(--fill-color);\n",
              "      border-bottom-color: var(--fill-color);\n",
              "    }\n",
              "    90% {\n",
              "      border-color: transparent;\n",
              "      border-bottom-color: var(--fill-color);\n",
              "    }\n",
              "  }\n",
              "</style>\n",
              "\n",
              "      <script>\n",
              "        async function quickchart(key) {\n",
              "          const quickchartButtonEl =\n",
              "            document.querySelector('#' + key + ' button');\n",
              "          quickchartButtonEl.disabled = true;  // To prevent multiple clicks.\n",
              "          quickchartButtonEl.classList.add('colab-df-spinner');\n",
              "          try {\n",
              "            const charts = await google.colab.kernel.invokeFunction(\n",
              "                'suggestCharts', [key], {});\n",
              "          } catch (error) {\n",
              "            console.error('Error during call to suggestCharts:', error);\n",
              "          }\n",
              "          quickchartButtonEl.classList.remove('colab-df-spinner');\n",
              "          quickchartButtonEl.classList.add('colab-df-quickchart-complete');\n",
              "        }\n",
              "        (() => {\n",
              "          let quickchartButtonEl =\n",
              "            document.querySelector('#df-dc56a6e0-d7b8-4eff-adf2-feeb3e5ec100 button');\n",
              "          quickchartButtonEl.style.display =\n",
              "            google.colab.kernel.accessAllowed ? 'block' : 'none';\n",
              "        })();\n",
              "      </script>\n",
              "    </div>\n",
              "\n",
              "    </div>\n",
              "  </div>\n"
            ],
            "application/vnd.google.colaboratory.intrinsic+json": {
              "type": "dataframe",
              "summary": "{\n  \"name\": \"movie_recommendations(\\\"Toy Story (1995)\\\")\",\n  \"rows\": 10,\n  \"fields\": [\n    {\n      \"column\": \"title\",\n      \"properties\": {\n        \"dtype\": \"string\",\n        \"num_unique_values\": 10,\n        \"samples\": [\n          \"Wild, The (2006)\",\n          \"Toy Story 2 (1999)\",\n          \"Monsters, Inc. (2001)\"\n        ],\n        \"semantic_type\": \"\",\n        \"description\": \"\"\n      }\n    },\n    {\n      \"column\": \"genres\",\n      \"properties\": {\n        \"dtype\": \"category\",\n        \"num_unique_values\": 3,\n        \"samples\": [\n          \"Adventure|Animation|Children|Comedy\",\n          \"Adventure|Animation|Children|Comedy|Fantasy\",\n          \"Action|Adventure|Sci-Fi\"\n        ],\n        \"semantic_type\": \"\",\n        \"description\": \"\"\n      }\n    }\n  ]\n}"
            }
          },
          "metadata": {},
          "execution_count": 25
        }
      ]
    },
    {
      "cell_type": "code",
      "source": [
        "import pandas as pd\n",
        "\n",
        "# Misalnya rekomendasi untuk film 'Toy Story'\n",
        "recommended_movies = ['A Bug\\'s Life', 'Monsters, Inc.', 'Finding Nemo', 'Up', 'Wall-E']\n",
        "scores = [0.87, 0.85, 0.83, 0.80, 0.78]\n",
        "\n",
        "df_recommendations = pd.DataFrame({\n",
        "    'Recommended Movie': recommended_movies,\n",
        "    'Similarity Score': scores\n",
        "})\n",
        "\n",
        "df_recommendations.style.background_gradient(cmap='Blues')"
      ],
      "metadata": {
        "colab": {
          "base_uri": "https://localhost:8080/",
          "height": 206
        },
        "id": "KvXLlqVRLzxm",
        "outputId": "e1db5d60-77bb-43ab-e71a-8982343e85ee"
      },
      "execution_count": 34,
      "outputs": [
        {
          "output_type": "execute_result",
          "data": {
            "text/plain": [
              "<pandas.io.formats.style.Styler at 0x7f7632d60e50>"
            ],
            "text/html": [
              "<style type=\"text/css\">\n",
              "#T_78bd0_row0_col1 {\n",
              "  background-color: #08306b;\n",
              "  color: #f1f1f1;\n",
              "}\n",
              "#T_78bd0_row1_col1 {\n",
              "  background-color: #1b69af;\n",
              "  color: #f1f1f1;\n",
              "}\n",
              "#T_78bd0_row2_col1 {\n",
              "  background-color: #58a1cf;\n",
              "  color: #f1f1f1;\n",
              "}\n",
              "#T_78bd0_row3_col1 {\n",
              "  background-color: #ccdff1;\n",
              "  color: #000000;\n",
              "}\n",
              "#T_78bd0_row4_col1 {\n",
              "  background-color: #f7fbff;\n",
              "  color: #000000;\n",
              "}\n",
              "</style>\n",
              "<table id=\"T_78bd0\" class=\"dataframe\">\n",
              "  <thead>\n",
              "    <tr>\n",
              "      <th class=\"blank level0\" >&nbsp;</th>\n",
              "      <th id=\"T_78bd0_level0_col0\" class=\"col_heading level0 col0\" >Recommended Movie</th>\n",
              "      <th id=\"T_78bd0_level0_col1\" class=\"col_heading level0 col1\" >Similarity Score</th>\n",
              "    </tr>\n",
              "  </thead>\n",
              "  <tbody>\n",
              "    <tr>\n",
              "      <th id=\"T_78bd0_level0_row0\" class=\"row_heading level0 row0\" >0</th>\n",
              "      <td id=\"T_78bd0_row0_col0\" class=\"data row0 col0\" >A Bug's Life</td>\n",
              "      <td id=\"T_78bd0_row0_col1\" class=\"data row0 col1\" >0.870000</td>\n",
              "    </tr>\n",
              "    <tr>\n",
              "      <th id=\"T_78bd0_level0_row1\" class=\"row_heading level0 row1\" >1</th>\n",
              "      <td id=\"T_78bd0_row1_col0\" class=\"data row1 col0\" >Monsters, Inc.</td>\n",
              "      <td id=\"T_78bd0_row1_col1\" class=\"data row1 col1\" >0.850000</td>\n",
              "    </tr>\n",
              "    <tr>\n",
              "      <th id=\"T_78bd0_level0_row2\" class=\"row_heading level0 row2\" >2</th>\n",
              "      <td id=\"T_78bd0_row2_col0\" class=\"data row2 col0\" >Finding Nemo</td>\n",
              "      <td id=\"T_78bd0_row2_col1\" class=\"data row2 col1\" >0.830000</td>\n",
              "    </tr>\n",
              "    <tr>\n",
              "      <th id=\"T_78bd0_level0_row3\" class=\"row_heading level0 row3\" >3</th>\n",
              "      <td id=\"T_78bd0_row3_col0\" class=\"data row3 col0\" >Up</td>\n",
              "      <td id=\"T_78bd0_row3_col1\" class=\"data row3 col1\" >0.800000</td>\n",
              "    </tr>\n",
              "    <tr>\n",
              "      <th id=\"T_78bd0_level0_row4\" class=\"row_heading level0 row4\" >4</th>\n",
              "      <td id=\"T_78bd0_row4_col0\" class=\"data row4 col0\" >Wall-E</td>\n",
              "      <td id=\"T_78bd0_row4_col1\" class=\"data row4 col1\" >0.780000</td>\n",
              "    </tr>\n",
              "  </tbody>\n",
              "</table>\n"
            ]
          },
          "metadata": {},
          "execution_count": 34
        }
      ]
    },
    {
      "cell_type": "markdown",
      "source": [
        "## **Collaborative Filtering**\n",
        "\n",
        "**Tujuan**:\n",
        "Memberi rekomendasi berdasarkan pola preferensi pengguna terhadap film.\n",
        "\n",
        "**Langkah-langkah**:\n",
        "* Encode userId dan movieId menjadi integer.\n",
        "* Normalisasi rating ke skala 0–1.\n",
        "* Split data menjadi train dan validation.\n",
        "* Buat model RecommenderNet:\n",
        "* Menggunakan embedding untuk user dan movie.\n",
        "* Menggunakan dot product + bias → sigmoid.\n",
        "* Training model selama 20 epoch.\n",
        "* Visualisasi RMSE."
      ],
      "metadata": {
        "id": "7Okjwi528cMz"
      }
    },
    {
      "cell_type": "code",
      "source": [
        "# Encode userId dan movieId\n",
        "user_ids = ratings['userId'].unique().tolist()\n",
        "user_to_encoded = {x: i for i, x in enumerate(user_ids)}\n",
        "encoded_to_user = {i: x for i, x in enumerate(user_ids)}\n",
        "\n",
        "movie_ids = ratings['movieId'].unique().tolist()\n",
        "movie_to_encoded = {x: i for i, x in enumerate(movie_ids)}\n",
        "encoded_to_movie = {i: x for i, x in enumerate(movie_ids)}\n",
        "\n",
        "ratings['user'] = ratings['userId'].map(user_to_encoded)\n",
        "ratings['movie'] = ratings['movieId'].map(movie_to_encoded)\n",
        "\n",
        "num_users = len(user_to_encoded)\n",
        "num_movies = len(movie_to_encoded)\n",
        "min_rating = ratings['rating'].min()\n",
        "max_rating = ratings['rating'].max()"
      ],
      "metadata": {
        "id": "ds5ohRqc-zPS"
      },
      "execution_count": 26,
      "outputs": []
    },
    {
      "cell_type": "code",
      "source": [
        "# Shuffle dan split data\n",
        "ratings = ratings.sample(frac=1, random_state=42)\n",
        "x = ratings[['user', 'movie']].values\n",
        "y = ratings['rating'].apply(lambda x: (x - min_rating) / (max_rating - min_rating)).values\n",
        "\n",
        "train_size = int(0.8 * len(x))\n",
        "x_train, x_val = x[:train_size], x[train_size:]\n",
        "y_train, y_val = y[:train_size], y[train_size:]"
      ],
      "metadata": {
        "id": "xtp9FOi78o_X"
      },
      "execution_count": 27,
      "outputs": []
    },
    {
      "cell_type": "code",
      "source": [
        "class RecommenderNet(tf.keras.Model):\n",
        "    def __init__(self, num_users, num_movies, embedding_size=50, **kwargs):\n",
        "        super(RecommenderNet, self).__init__(**kwargs)\n",
        "        self.user_embedding = layers.Embedding(\n",
        "            num_users, embedding_size,\n",
        "            embeddings_initializer='he_normal',\n",
        "            embeddings_regularizer=keras.regularizers.l2(1e-6)\n",
        "        )\n",
        "        self.user_bias = layers.Embedding(num_users, 1)\n",
        "        self.movie_embedding = layers.Embedding(\n",
        "            num_movies, embedding_size,\n",
        "            embeddings_initializer='he_normal',\n",
        "            embeddings_regularizer=keras.regularizers.l2(1e-6)\n",
        "        )\n",
        "        self.movie_bias = layers.Embedding(num_movies, 1)\n",
        "\n",
        "    def call(self, inputs):\n",
        "        user_vector = self.user_embedding(inputs[:, 0])\n",
        "        user_bias = self.user_bias(inputs[:, 0])\n",
        "        movie_vector = self.movie_embedding(inputs[:, 1])\n",
        "        movie_bias = self.movie_bias(inputs[:, 1])\n",
        "        dot_user_movie = tf.tensordot(user_vector, movie_vector, 2)\n",
        "        return tf.nn.sigmoid(dot_user_movie + user_bias + movie_bias)"
      ],
      "metadata": {
        "id": "KMivaFS98wz_"
      },
      "execution_count": 28,
      "outputs": []
    },
    {
      "cell_type": "code",
      "source": [
        "model = RecommenderNet(num_users, num_movies)\n",
        "model.compile(\n",
        "    loss=tf.keras.losses.BinaryCrossentropy(),\n",
        "    optimizer=keras.optimizers.Adam(learning_rate=0.001),\n",
        "    metrics=[tf.keras.metrics.RootMeanSquaredError()]\n",
        ")\n",
        "\n",
        "history = model.fit(\n",
        "    x=x_train,\n",
        "    y=y_train,\n",
        "    batch_size=64,\n",
        "    epochs=20,\n",
        "    validation_data=(x_val, y_val)\n",
        ")\n",
        "\n",
        "# Plot hasil training\n",
        "plt.plot(history.history['root_mean_squared_error'])\n",
        "plt.plot(history.history['val_root_mean_squared_error'])\n",
        "plt.xlabel('Epoch')\n",
        "plt.ylabel('RMSE')\n",
        "plt.legend(['Train', 'Validation'])\n",
        "plt.title('Model RMSE')\n",
        "plt.show()"
      ],
      "metadata": {
        "colab": {
          "base_uri": "https://localhost:8080/",
          "height": 1000
        },
        "id": "JLOLZpvm85NG",
        "outputId": "117c8107-92f6-4c9b-a373-7e643201923c"
      },
      "execution_count": 30,
      "outputs": [
        {
          "output_type": "stream",
          "name": "stdout",
          "text": [
            "Epoch 1/20\n",
            "1014/1014 [==============================] - 12s 8ms/step - loss: 0.6368 - root_mean_squared_error: 0.2392 - val_loss: 0.6107 - val_root_mean_squared_error: 0.2133\n",
            "Epoch 2/20\n",
            "1014/1014 [==============================] - 12s 12ms/step - loss: 0.6072 - root_mean_squared_error: 0.2085 - val_loss: 0.6154 - val_root_mean_squared_error: 0.2177\n",
            "Epoch 3/20\n",
            "1014/1014 [==============================] - 7s 6ms/step - loss: 0.6000 - root_mean_squared_error: 0.2010 - val_loss: 0.6056 - val_root_mean_squared_error: 0.2076\n",
            "Epoch 4/20\n",
            "1014/1014 [==============================] - 5s 5ms/step - loss: 0.5971 - root_mean_squared_error: 0.1980 - val_loss: 0.6006 - val_root_mean_squared_error: 0.2028\n",
            "Epoch 5/20\n",
            "1014/1014 [==============================] - 5s 4ms/step - loss: 0.5962 - root_mean_squared_error: 0.1969 - val_loss: 0.6021 - val_root_mean_squared_error: 0.2047\n",
            "Epoch 6/20\n",
            "1014/1014 [==============================] - 4s 4ms/step - loss: 0.5970 - root_mean_squared_error: 0.1978 - val_loss: 0.5979 - val_root_mean_squared_error: 0.2001\n",
            "Epoch 7/20\n",
            "1014/1014 [==============================] - 5s 5ms/step - loss: 0.5961 - root_mean_squared_error: 0.1968 - val_loss: 0.6001 - val_root_mean_squared_error: 0.2027\n",
            "Epoch 8/20\n",
            "1014/1014 [==============================] - 4s 4ms/step - loss: 0.5961 - root_mean_squared_error: 0.1967 - val_loss: 0.5967 - val_root_mean_squared_error: 0.1989\n",
            "Epoch 9/20\n",
            "1014/1014 [==============================] - 4s 4ms/step - loss: 0.5970 - root_mean_squared_error: 0.1974 - val_loss: 0.5972 - val_root_mean_squared_error: 0.1995\n",
            "Epoch 10/20\n",
            "1014/1014 [==============================] - 5s 5ms/step - loss: 0.5968 - root_mean_squared_error: 0.1971 - val_loss: 0.5993 - val_root_mean_squared_error: 0.2018\n",
            "Epoch 11/20\n",
            "1014/1014 [==============================] - 5s 5ms/step - loss: 0.5963 - root_mean_squared_error: 0.1965 - val_loss: 0.5980 - val_root_mean_squared_error: 0.2003\n",
            "Epoch 12/20\n",
            "1014/1014 [==============================] - 4s 4ms/step - loss: 0.5956 - root_mean_squared_error: 0.1958 - val_loss: 0.5973 - val_root_mean_squared_error: 0.1996\n",
            "Epoch 13/20\n",
            "1014/1014 [==============================] - 5s 5ms/step - loss: 0.5966 - root_mean_squared_error: 0.1967 - val_loss: 0.5983 - val_root_mean_squared_error: 0.2006\n",
            "Epoch 14/20\n",
            "1014/1014 [==============================] - 5s 5ms/step - loss: 0.5956 - root_mean_squared_error: 0.1955 - val_loss: 0.5990 - val_root_mean_squared_error: 0.2014\n",
            "Epoch 15/20\n",
            "1014/1014 [==============================] - 4s 4ms/step - loss: 0.5946 - root_mean_squared_error: 0.1944 - val_loss: 0.5960 - val_root_mean_squared_error: 0.1978\n",
            "Epoch 16/20\n",
            "1014/1014 [==============================] - 5s 5ms/step - loss: 0.5963 - root_mean_squared_error: 0.1960 - val_loss: 0.5985 - val_root_mean_squared_error: 0.2006\n",
            "Epoch 17/20\n",
            "1014/1014 [==============================] - 4s 4ms/step - loss: 0.5959 - root_mean_squared_error: 0.1956 - val_loss: 0.5983 - val_root_mean_squared_error: 0.2002\n",
            "Epoch 18/20\n",
            "1014/1014 [==============================] - 4s 4ms/step - loss: 0.5959 - root_mean_squared_error: 0.1957 - val_loss: 0.6006 - val_root_mean_squared_error: 0.2030\n",
            "Epoch 19/20\n",
            "1014/1014 [==============================] - 6s 6ms/step - loss: 0.5960 - root_mean_squared_error: 0.1959 - val_loss: 0.5976 - val_root_mean_squared_error: 0.1994\n",
            "Epoch 20/20\n",
            "1014/1014 [==============================] - 6s 5ms/step - loss: 0.5960 - root_mean_squared_error: 0.1957 - val_loss: 0.5989 - val_root_mean_squared_error: 0.2008\n"
          ]
        },
        {
          "output_type": "display_data",
          "data": {
            "text/plain": [
              "<Figure size 640x480 with 1 Axes>"
            ],
            "image/png": "[encoded data removed]"
          },
          "metadata": {}
        }
      ]
    },
    {
      "cell_type": "markdown",
      "source": [
        "* RMSE training menurun drastis, validasi juga stabil.\n",
        "* Overfitting tidak terjadi secara signifikan karena gap-nya kecil.\n",
        "* RMSE ~0.20 pada validation berarti prediksi rating cukup mendekati rating asli (skala 0–1)."
      ],
      "metadata": {
        "id": "51PgStTLJ6os"
      }
    },
    {
      "cell_type": "code",
      "source": [
        "# Ambil sample user\n",
        "user_id = ratings['userId'].sample(1).iloc[0]\n",
        "user_encoded = user_to_encoded[user_id]\n",
        "\n",
        "# Film yang sudah ditonton user\n",
        "watched_movie_ids = ratings[ratings['userId'] == user_id]['movieId'].tolist()\n",
        "\n",
        "# Film yang belum ditonton\n",
        "unwatched_movies = [movie for movie in movie_ids if movie not in watched_movie_ids]\n",
        "unwatched_encoded = [movie_to_encoded[movie] for movie in unwatched_movies]\n",
        "\n",
        "# Siapkan input untuk prediksi\n",
        "user_input = np.array([[user_encoded]] * len(unwatched_encoded))\n",
        "movie_input = np.array(unwatched_encoded).reshape(-1, 1)\n",
        "input_array = np.hstack([user_input, movie_input])\n",
        "\n",
        "# Prediksi rating\n",
        "predicted_ratings = model.predict(input_array).flatten()\n",
        "top_indices = predicted_ratings.argsort()[-10:][::-1]\n",
        "top_movie_ids = [encoded_to_movie[unwatched_encoded[i]] for i in top_indices]\n",
        "\n",
        "# Tampilkan hasil rekomendasi\n",
        "print(f\"Menampilkan rekomendasi untuk User ID: {user_id}\")\n",
        "print(\"=\" * 30)\n",
        "\n",
        "# Film dengan rating tertinggi dari user\n",
        "print(\"Film dengan rating tertinggi dari user:\")\n",
        "print(\"-\" * 30)\n",
        "top_movies_user = (\n",
        "    ratings[ratings['userId'] == user_id]\n",
        "    .sort_values(by='rating', ascending=False)\n",
        "    .head(5)\n",
        "    .movieId.values\n",
        ")\n",
        "\n",
        "for movie_id in top_movies_user:\n",
        "    title = movie_id_to_title.get(movie_id, \"Unknown Title\")\n",
        "    print(f\"- {title}\")\n",
        "\n",
        "print(\"-\" * 30)\n",
        "print(\"Top 10 Rekomendasi Film:\")\n",
        "print(\"-\" * 30)\n",
        "\n",
        "# Tampilkan film rekomendasi\n",
        "recommended_movies = movies[movies['movieId'].isin(top_movie_ids)]\n",
        "for row in recommended_movies.itertuples():\n",
        "    print(f\"- {row.title}\")\n"
      ],
      "metadata": {
        "colab": {
          "base_uri": "https://localhost:8080/"
        },
        "id": "wcuLSKUfDBmz",
        "outputId": "9c9ae967-3a6f-437a-ca5e-805f99933a92"
      },
      "execution_count": 33,
      "outputs": [
        {
          "output_type": "stream",
          "name": "stdout",
          "text": [
            "67/67 [==============================] - 0s 2ms/step\n",
            "Menampilkan rekomendasi untuk User ID: 367\n",
            "==============================\n",
            "Film dengan rating tertinggi dari user:\n",
            "------------------------------\n",
            "- Big (1988)\n",
            "- Chicken Run (2000)\n",
            "- Hoosiers (a.k.a. Best Shot) (1986)\n",
            "- Skulls, The (2000)\n",
            "- Breakfast Club, The (1985)\n",
            "------------------------------\n",
            "Top 10 Rekomendasi Film:\n",
            "------------------------------\n",
            "- Hoop Dreams (1994)\n",
            "- Streetcar Named Desire, A (1951)\n",
            "- Lawrence of Arabia (1962)\n",
            "- Glory (1989)\n",
            "- Great Escape, The (1963)\n",
            "- Fear and Loathing in Las Vegas (1998)\n",
            "- Purple Rose of Cairo, The (1985)\n",
            "- Yojimbo (1961)\n",
            "- Snatch (2000)\n",
            "- Blind Swordsman: Zatoichi, The (Zatôichi) (2003)\n"
          ]
        }
      ]
    }
  ]
}